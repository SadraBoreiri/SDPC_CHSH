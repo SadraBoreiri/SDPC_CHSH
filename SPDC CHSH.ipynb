{
 "cells": [
  {
   "cell_type": "code",
   "execution_count": 1,
   "id": "48cb5f81",
   "metadata": {},
   "outputs": [],
   "source": [
    "import numpy as np"
   ]
  },
  {
   "cell_type": "code",
   "execution_count": 28,
   "id": "bb1d62ec",
   "metadata": {},
   "outputs": [],
   "source": [
    "def N(m):\n",
    "    \"\"\"\n",
    "    Compute N(m) =  ((1 - s1^2) * (1 - s2^2)),\n",
    "    where s1 and s2 are the singular values of the matrix m.\n",
    "    \"\"\"\n",
    "    # Ensure the input is a 2x2 matrix\n",
    "    #if m.shape != (2, 2):\n",
    "    #    raise ValueError(\"Input matrix m must be 2x2.\")\n",
    "    \n",
    "    # Compute the singular values of the matrix m\n",
    "    singular_values = np.linalg.svd(m, compute_uv=False)\n",
    "    s1, s2 = singular_values[:2]  # Get the first two singular values (for 2x2)\n",
    "    \n",
    "    # Compute N(m)\n",
    "    n = (1 - s1**2) * (1 - s2**2)\n",
    "    \n",
    "    return n"
   ]
  },
  {
   "cell_type": "code",
   "execution_count": 29,
   "id": "47f4c4b4",
   "metadata": {},
   "outputs": [],
   "source": [
    "def g(i1, i2, j1, j2, m):\n",
    "    \"\"\"\n",
    "    Compute g(i1, i2, j1, j2) = N(m) / N(m'),\n",
    "    where m' = D_a * m * D_b, and D_a and D_b are diagonal matrices\n",
    "    defined based on i1, i2, j1, j2.\n",
    "    \n",
    "    Parameters:\n",
    "        i1, i2, j1, j2: int\n",
    "            Binary inputs (0 or 1) to define diagonal matrices D_a and D_b.\n",
    "        m: numpy.ndarray\n",
    "            A 2x2 matrix.\n",
    "    \n",
    "    Returns:\n",
    "        float\n",
    "            The computed value of g(i1, i2, j1, j2).\n",
    "    \"\"\"\n",
    "    # Ensure inputs are binary\n",
    "    if any(x not in {0, 1} for x in [i1, i2, j1, j2]):\n",
    "        raise ValueError(\"Inputs i1, i2, j1, and j2 must be binary (0 or 1).\")\n",
    "    \n",
    "    # Ensure the matrix is 2x2\n",
    "    #if m.shape != (2, 2):\n",
    "    #    raise ValueError(\"Matrix m must be 2x2.\")\n",
    "    \n",
    "    # Define the diagonal matrices D_a and D_b\n",
    "    D_a = np.diag([i1, i2])\n",
    "    D_b = np.diag([j1, j2])\n",
    "    \n",
    "    # Compute m' = D_a * m * D_b\n",
    "    m_prime = D_a @ m @ D_b\n",
    "    \n",
    "    # Compute N(m) and N(m')\n",
    "    Nm = N(m)\n",
    "    Nm_prime = N(m_prime)\n",
    "    \n",
    "    # Check for division by zero\n",
    "    #if Nm_prime == 0:\n",
    "    #    raise ValueError(\"N(m') is zero, the computation is undefined.\")\n",
    "    \n",
    "    return Nm / (Nm_prime +0.000000001)\n"
   ]
  },
  {
   "cell_type": "code",
   "execution_count": null,
   "id": "7e564229",
   "metadata": {},
   "outputs": [],
   "source": []
  },
  {
   "cell_type": "markdown",
   "id": "510835a4",
   "metadata": {},
   "source": [
    "### Let $g(a_1, a_2, b_1, b_2)$ be a function with binary inputs \\( 0 \\) or \\( 1 \\). The function  $p(a_1, a_2, b_1, b_2)$ is defined as:\n",
    "\n",
    "$$ p(a_1, a_2, b_1, b_2) = \\sum_{i_1 \\in [0, a_1]} \\sum_{i_2 \\in [0, a_2]} \\sum_{j_1 \\in [0, b_1]} \\sum_{j_2 \\in [0, b_2]} g(i_1, i_2, j_1, j_2) \\cdot (-1)^{(a_1 + a_2 + b_1 + b_2) - (i_1 + i_2 + j_1 + j_2)}$$"
   ]
  },
  {
   "cell_type": "code",
   "execution_count": 30,
   "id": "4f734fa4",
   "metadata": {},
   "outputs": [],
   "source": [
    "def p(a1, a2, b1, b2, m):\n",
    "    \n",
    "    # Ensure inputs are binary\n",
    "    if any(x not in {0, 1} for x in [a1, a2, b1, b2]):\n",
    "        raise ValueError(\"Inputs a1, a2, b1, and b2 must be binary (0 or 1).\")\n",
    "    \n",
    "    result = 0\n",
    "    total_sum = a1 + a2 + b1 + b2\n",
    "\n",
    "    # Iterate over all combinations of i1, i2, j1, j2\n",
    "    for i1 in range(a1 + 1):\n",
    "        for i2 in range(a2 + 1):\n",
    "            for j1 in range(b1 + 1):\n",
    "                for j2 in range(b2 + 1):\n",
    "                    # Compute the power of -1\n",
    "                    sign = (-1) ** (total_sum - (i1 + i2 + j1 + j2))\n",
    "                    # Add to the result\n",
    "                    result += g(i1, i2, j1, j2, m) * sign\n",
    "    \n",
    "    return np.round(result,8)\n"
   ]
  },
  {
   "cell_type": "markdown",
   "id": "ea6889a9",
   "metadata": {},
   "source": [
    "##  parametrized M  for T1 = T2 =T\n",
    "\n",
    "$$ M = T* R_{\\alpha - \\beta}$$"
   ]
  },
  {
   "cell_type": "code",
   "execution_count": 31,
   "id": "d0ba3c95",
   "metadata": {},
   "outputs": [],
   "source": [
    "def M_2x2_parametrized(params):\n",
    "    \n",
    "    \n",
    "    [alpha, beta, T ] = params\n",
    "    \n",
    "    gamma = alpha - beta\n",
    "    \n",
    "    R = np.array([\n",
    "        [np.cos(gamma), -np.sin(gamma)],\n",
    "        [np.sin(gamma),  np.cos(gamma)]])\n",
    "    \n",
    "    \n",
    "    #D = np.diag([l0, l1])\n",
    "    \n",
    "    # Compute m' = D_a * m * D_b\n",
    "    #M = R1 @ D @ R2.T\n",
    "    M = T * R\n",
    "    \n",
    "    return M\n",
    "    \n"
   ]
  },
  {
   "cell_type": "code",
   "execution_count": 32,
   "id": "2c7e94a2",
   "metadata": {},
   "outputs": [],
   "source": [
    "m=M_2x2_parametrized([0.5,0.5,0.999])"
   ]
  },
  {
   "cell_type": "markdown",
   "id": "2d1a3126",
   "metadata": {},
   "source": [
    "## local mapping"
   ]
  },
  {
   "cell_type": "code",
   "execution_count": 541,
   "id": "d5d20e67",
   "metadata": {},
   "outputs": [
    {
     "name": "stdout",
     "output_type": "stream",
     "text": [
      "Mapped q Distribution:\n",
      "q(0, 0) = 0.99775\n",
      "q(0, 1) = 0.00000\n",
      "q(1, 0) = 0.00000\n",
      "q(1, 1) = 0.00199\n"
     ]
    }
   ],
   "source": [
    "# Local mappings for Alice and Bob\n",
    "def alice_mapping(a1, a2):\n",
    "    # valid terms\n",
    "    if (a1, a2) == (0, 1):\n",
    "        return 0\n",
    "    elif (a1, a2) == (1, 0):\n",
    "        return 1\n",
    "    \n",
    "    # not valid terms\n",
    "    elif (a1, a2) == (0, 0):\n",
    "        return 0\n",
    "    elif (a1, a2) == (1, 1):\n",
    "        return 0\n",
    "\n",
    "def bob_mapping(b1, b2):\n",
    "    # valid terms\n",
    "    if (b1, b2) == (0, 1):\n",
    "        return 0\n",
    "    elif (b1, b2) == (1, 0):\n",
    "        return 1\n",
    "    \n",
    "    # not valid terms\n",
    "    elif (b1, b2) == (0, 0):\n",
    "        return 0\n",
    "    elif (b1, b2) == (1, 1):\n",
    "        return 0\n",
    "\n",
    "# Initialize q(a, b)\n",
    "q = {\n",
    "    (0, 0): 0.0,\n",
    "    (0, 1): 0.0,\n",
    "    (1, 0): 0.0,\n",
    "    (1, 1): 0.0\n",
    "}\n",
    "\n",
    "# Collect all possible combinations\n",
    "all_combinations = [(a1, a2, b1, b2) for a1 in [0, 1] for a2 in [0, 1]\n",
    "                                     for b1 in [0, 1] for b2 in [0, 1]]\n",
    "\n",
    "# Compute q(a, b)\n",
    "for a1, a2, b1, b2 in all_combinations:\n",
    "    prob = p(a1, a2, b1, b2, m)\n",
    "    \n",
    "    # Get local mappings for Alice and Bob\n",
    "    a = alice_mapping(a1, a2)\n",
    "    b = bob_mapping(b1, b2)\n",
    "    \n",
    "    q[(a, b)] += prob\n",
    "\n",
    "# Output the resulting q distribution\n",
    "print(\"Mapped q Distribution:\")\n",
    "for key, value in q.items():\n",
    "    print(f\"q{key} = {value:.5f}\")\n"
   ]
  },
  {
   "cell_type": "code",
   "execution_count": 542,
   "id": "42fb8ec1",
   "metadata": {},
   "outputs": [
    {
     "data": {
      "text/plain": [
       "0.99775481"
      ]
     },
     "execution_count": 542,
     "metadata": {},
     "output_type": "execute_result"
    }
   ],
   "source": [
    "q[(0,0)]"
   ]
  },
  {
   "cell_type": "code",
   "execution_count": 543,
   "id": "c0c43b57",
   "metadata": {},
   "outputs": [
    {
     "name": "stdout",
     "output_type": "stream",
     "text": [
      "4e-06\n",
      "0.0\n",
      "0.0\n",
      "0.0\n",
      "0.0\n",
      "0.001995\n",
      "0.0\n",
      "0.0\n",
      "0.0\n",
      "0.0\n",
      "0.001995\n",
      "0.0\n",
      "0.0\n",
      "0.0\n",
      "0.0\n",
      "0.99575581\n"
     ]
    }
   ],
   "source": [
    "for a1, a2, b1, b2 in all_combinations:\n",
    "    print(p(a1, a2, b1, b2, m))"
   ]
  },
  {
   "cell_type": "markdown",
   "id": "94ac1c18",
   "metadata": {},
   "source": [
    "### CHSH with $T_1 = T_2 =T$\n",
    "\n",
    "$$ M = T * R_{\\alpha-  \\beta}$$\n",
    "\n",
    "Lets consider ${\\beta}_0$ = 0\n",
    "\n",
    "We defnd $M_{xy}$\n",
    "\n",
    "$M_{00}= T *R(a0)$\n",
    "\n",
    "$M_{01}= T *R(a0-b1)$\n",
    "\n",
    "$M_{10}= T *R(a1)$\n",
    "\n",
    "$M_{11}= T *R(a1-b1)$"
   ]
  },
  {
   "cell_type": "code",
   "execution_count": 544,
   "id": "609a5497",
   "metadata": {},
   "outputs": [],
   "source": [
    "# Local mappings for Alice and Bob\n",
    "def alice_mapping(a1, a2):\n",
    "    # valid terms\n",
    "    if (a1, a2) == (0, 1):\n",
    "        return 0\n",
    "    elif (a1, a2) == (1, 0):\n",
    "        return 1\n",
    "    \n",
    "    # not valid terms\n",
    "    elif (a1, a2) == (0, 0):\n",
    "        return 0\n",
    "    elif (a1, a2) == (1, 1):\n",
    "        return 0\n",
    "\n",
    "def bob_mapping(b1, b2):\n",
    "    # valid terms\n",
    "    if (b1, b2) == (0, 1):\n",
    "        return 0\n",
    "    elif (b1, b2) == (1, 0):\n",
    "        return 1\n",
    "    \n",
    "    # not valid terms\n",
    "    elif (b1, b2) == (0, 0):\n",
    "        return 0\n",
    "    elif (b1, b2) == (1, 1):\n",
    "        return 0"
   ]
  },
  {
   "cell_type": "code",
   "execution_count": 545,
   "id": "abd382bf",
   "metadata": {},
   "outputs": [],
   "source": [
    "def CHSH_Score(params):\n",
    "    \n",
    "    [T, alpha0, alpha1, beta1] = params\n",
    "    #beta0 = 0\n",
    "    \n",
    "    # Rxy\n",
    "    R00 = np.array([\n",
    "        [np.cos(alpha0), -np.sin(alpha0)],\n",
    "        [np.sin(alpha0),  np.cos(alpha0)]])\n",
    "    \n",
    "    R01 = np.array([\n",
    "        [np.cos(alpha0-beta1), -np.sin(alpha0-beta1)],\n",
    "        [np.sin(alpha0-beta1),  np.cos(alpha0-beta1)]])\n",
    "    \n",
    "    R10 = np.array([\n",
    "        [np.cos(alpha1), -np.sin(alpha1)],\n",
    "        [np.sin(alpha1),  np.cos(alpha1)]])\n",
    "    \n",
    "    R11 = np.array([\n",
    "        [np.cos(alpha1-beta1), -np.sin(alpha1-beta1)],\n",
    "        [np.sin(alpha1-beta1),  np.cos(alpha1-beta1)]])\n",
    "    \n",
    "    M00 = T * R00\n",
    "    M01 = T * R01\n",
    "    M10 = T * R10\n",
    "    M11 = T * R11\n",
    "    \n",
    "    \n",
    "    #....................................................\n",
    "    \n",
    "    # Initialize q(a, b)\n",
    "    q00 = {\n",
    "        (0, 0): 0.0,\n",
    "        (0, 1): 0.0,\n",
    "        (1, 0): 0.0,\n",
    "        (1, 1): 0.0}\n",
    "    \n",
    "    q01 = q00.copy()\n",
    "    q10 = q00.copy()\n",
    "    q11 = q00.copy()\n",
    "    \n",
    "    \n",
    "    # Collect all possible combinations\n",
    "    all_combinations = [(a1, a2, b1, b2) for a1 in [0, 1] for a2 in [0, 1]\n",
    "                                         for b1 in [0, 1] for b2 in [0, 1]]\n",
    "\n",
    "    # Compute q(a, b)\n",
    "    # here we assume the same relabaling for all x,y inputs\n",
    "    for a1, a2, b1, b2 in all_combinations:\n",
    "        prob00 = p(a1, a2, b1, b2, M00)\n",
    "        prob01 = p(a1, a2, b1, b2, M01)\n",
    "        prob10 = p(a1, a2, b1, b2, M10)\n",
    "        prob11 = p(a1, a2, b1, b2, M11)\n",
    "\n",
    "        # Get local mappings for Alice and Bob\n",
    "        a = alice_mapping(a1, a2)\n",
    "        b = bob_mapping(b1, b2)\n",
    "\n",
    "        q00[(a, b)] += prob00\n",
    "        q01[(a, b)] += prob01\n",
    "        q10[(a, b)] += prob10\n",
    "        q11[(a, b)] += prob11\n",
    "        \n",
    "    avg_00 = q00[(0, 0)]+q00[(1, 1)]-q00[(0, 1)]-q00[(1, 0)]\n",
    "    avg_01 = q01[(0, 0)]+q01[(1, 1)]-q01[(0, 1)]-q01[(1, 0)]\n",
    "    avg_10 = q10[(0, 0)]+q10[(1, 1)]-q10[(0, 1)]-q10[(1, 0)]\n",
    "    avg_11 = q11[(0, 0)]+q11[(1, 1)]-q11[(0, 1)]-q11[(1, 0)]\n",
    "    \n",
    "    CHSH_score = avg_00 + avg_01 + avg_10 - avg_11\n",
    "    \n",
    "    return -CHSH_score"
   ]
  },
  {
   "cell_type": "code",
   "execution_count": 546,
   "id": "0ecd6289",
   "metadata": {},
   "outputs": [
    {
     "data": {
      "text/plain": [
       "-2.1608115000000003"
      ]
     },
     "execution_count": 546,
     "metadata": {},
     "output_type": "execute_result"
    }
   ],
   "source": [
    "T = 0.6\n",
    "\n",
    "alpha0 = 0.38\n",
    "\n",
    "alpha1 = 0\n",
    "\n",
    "beta1 = 0.9\n",
    "\n",
    "params  = [T, alpha0, alpha1, beta1]\n",
    "\n",
    "CHSH_Score(params)\n"
   ]
  },
  {
   "cell_type": "code",
   "execution_count": 547,
   "id": "d6af6cd9",
   "metadata": {},
   "outputs": [
    {
     "name": "stdout",
     "output_type": "stream",
     "text": [
      "Optimization terminated successfully.\n",
      "         Current function value: -2.000000\n",
      "         Iterations: 26\n",
      "         Function evaluations: 93\n",
      "Optimized matrix m:\n",
      " [0.         0.46591368 0.47644342 0.55802229]\n",
      "Objective value: 2.0\n"
     ]
    }
   ],
   "source": [
    "from scipy.optimize import minimize\n",
    "\n",
    "init_param = np.random.uniform(0, 1, 4)  # Random starting matrix  #########????\n",
    "bounds = [(0, 1), (0, 2*np.pi),(0, 2*np.pi), (0, 2*np.pi)]  # Element-wise bounds for m\n",
    "\n",
    "\n",
    "\n",
    "# Optimize\n",
    "result = minimize(\n",
    "    CHSH_Score,\n",
    "    init_param,\n",
    "    bounds=bounds,\n",
    "    method='Nelder-Mead',# Nelder-Mead , Powell\n",
    "    options={'disp': True}\n",
    ")\n",
    "\n",
    "# Results\n",
    "optimized_m = result.x\n",
    "print(\"Optimized matrix m:\\n\", optimized_m)\n",
    "print(\"Objective value:\", -result.fun)"
   ]
  },
  {
   "cell_type": "code",
   "execution_count": 551,
   "id": "d70cbe8a",
   "metadata": {},
   "outputs": [
    {
     "data": {
      "image/png": "[encoded data removed]",
      "text/plain": [
       "<Figure size 432x288 with 1 Axes>"
      ]
     },
     "metadata": {
      "needs_background": "light"
     },
     "output_type": "display_data"
    }
   ],
   "source": [
    "import matplotlib.pyplot as plt\n",
    "\n",
    "def optimize_for_fixed_T(T_fixed):\n",
    "    # Objective function with T fixed\n",
    "    def objective(variables):\n",
    "        alpha0, alpha1, beta1 = variables\n",
    "        return CHSH_Score([T_fixed, alpha0, alpha1, beta1])  # Negative for maximization\n",
    "\n",
    "    # Initial guess for alpha0, alpha1, beta1\n",
    "    init_param = np.random.uniform(0, 2 * np.pi, 3)\n",
    "\n",
    "    # Bounds for the other parameters\n",
    "    bounds = [(0, 2 * np.pi), (0, 2 * np.pi), (0, 2 * np.pi)]\n",
    "\n",
    "    # Optimization\n",
    "    result = minimize(\n",
    "        objective,\n",
    "        init_param,\n",
    "        bounds=bounds,\n",
    "        method='Powell',  # You can experiment with other methods\n",
    "        options={'disp': False}\n",
    "    )\n",
    "    return -result.fun  # Return the maximized score\n",
    "\n",
    "# Array of 50 fixed T values\n",
    "\n",
    "\n",
    "grid = 20\n",
    "T_values = np.linspace(0, 0.999, grid)\n",
    "optimized_scores = np.zeros(grid)\n",
    "\n",
    "# Store optimized scores for each T # repeat optimization 3 times ...\n",
    "\n",
    "\n",
    "for i in range(grid):\n",
    "    T = T_values[i]\n",
    "    Best_val = 0\n",
    "    for _ in range(3):\n",
    "        new_val = optimize_for_fixed_T(T)\n",
    "        if new_val > Best_val:\n",
    "            Best_val = new_val\n",
    "    optimized_scores[i] = Best_val\n",
    "#optimized_scores = [optimize_for_fixed_T(T) for T in T_values]\n",
    "\n",
    "# Plot the result\n",
    "plt.plot(T_values, optimized_scores, marker='o', linestyle='-', color='b')\n",
    "plt.xlabel('T (Fixed)')\n",
    "plt.ylabel('Maximized CHSH Score')\n",
    "plt.title('CHSH Score Optimization as a Function of T')\n",
    "plt.grid(True)\n",
    "plt.show()"
   ]
  },
  {
   "cell_type": "code",
   "execution_count": 552,
   "id": "51ef574a",
   "metadata": {},
   "outputs": [
    {
     "data": {
      "text/plain": [
       "2.2976752199999995"
      ]
     },
     "execution_count": 552,
     "metadata": {},
     "output_type": "execute_result"
    }
   ],
   "source": [
    "optimize_for_fixed_T(T_fixed=0.6)"
   ]
  },
  {
   "cell_type": "markdown",
   "id": "5c5a1847",
   "metadata": {},
   "source": [
    "## With post selection"
   ]
  },
  {
   "cell_type": "code",
   "execution_count": 553,
   "id": "9aa05cb7",
   "metadata": {},
   "outputs": [],
   "source": [
    "def p_post_select(a1, a2, b1, b2, m):\n",
    "    \n",
    "    if a1==a2==b1==b2== 0:\n",
    "        return 0\n",
    "    \n",
    "    p_fail = p(0, 0, 0, 0, m)\n",
    "    \n",
    "    return p(a1, a2, b1, b2, m)/(1-p_fail)"
   ]
  },
  {
   "cell_type": "code",
   "execution_count": 554,
   "id": "5c50ebca",
   "metadata": {},
   "outputs": [],
   "source": [
    "def CHSH_Score_post_select(params):\n",
    "    \n",
    "    [T, alpha0, alpha1, beta1] = params\n",
    "    #beta0 = 0\n",
    "    \n",
    "    # Rxy\n",
    "    R00 = np.array([\n",
    "        [np.cos(alpha0), -np.sin(alpha0)],\n",
    "        [np.sin(alpha0),  np.cos(alpha0)]])\n",
    "    \n",
    "    R01 = np.array([\n",
    "        [np.cos(alpha0-beta1), -np.sin(alpha0-beta1)],\n",
    "        [np.sin(alpha0-beta1),  np.cos(alpha0-beta1)]])\n",
    "    \n",
    "    R10 = np.array([\n",
    "        [np.cos(alpha1), -np.sin(alpha1)],\n",
    "        [np.sin(alpha1),  np.cos(alpha1)]])\n",
    "    \n",
    "    R11 = np.array([\n",
    "        [np.cos(alpha1-beta1), -np.sin(alpha1-beta1)],\n",
    "        [np.sin(alpha1-beta1),  np.cos(alpha1-beta1)]])\n",
    "    \n",
    "    M00 = T * R00\n",
    "    M01 = T * R01\n",
    "    M10 = T * R10\n",
    "    M11 = T * R11\n",
    "    \n",
    "    \n",
    "    #....................................................\n",
    "    \n",
    "    # Initialize q(a, b)\n",
    "    q00 = {\n",
    "        (0, 0): 0.0,\n",
    "        (0, 1): 0.0,\n",
    "        (1, 0): 0.0,\n",
    "        (1, 1): 0.0}\n",
    "    \n",
    "    q01 = q00.copy()\n",
    "    q10 = q00.copy()\n",
    "    q11 = q00.copy()\n",
    "    \n",
    "    \n",
    "    # Collect all possible combinations\n",
    "    all_combinations = [(a1, a2, b1, b2) for a1 in [0, 1] for a2 in [0, 1]\n",
    "                                         for b1 in [0, 1] for b2 in [0, 1]]\n",
    "\n",
    "    # Compute q(a, b)\n",
    "    # here we assume the same relabaling for all x,y inputs\n",
    "    for a1, a2, b1, b2 in all_combinations:\n",
    "        prob00 = p_post_select(a1, a2, b1, b2, M00)\n",
    "        prob01 = p_post_select(a1, a2, b1, b2, M01)\n",
    "        prob10 = p_post_select(a1, a2, b1, b2, M10)\n",
    "        prob11 = p_post_select(a1, a2, b1, b2, M11)\n",
    "\n",
    "        # Get local mappings for Alice and Bob\n",
    "        a = alice_mapping(a1, a2)\n",
    "        b = bob_mapping(b1, b2)\n",
    "\n",
    "        q00[(a, b)] += prob00\n",
    "        q01[(a, b)] += prob01\n",
    "        q10[(a, b)] += prob10\n",
    "        q11[(a, b)] += prob11\n",
    "        \n",
    "    avg_00 = q00[(0, 0)]+q00[(1, 1)]-q00[(0, 1)]-q00[(1, 0)]\n",
    "    avg_01 = q01[(0, 0)]+q01[(1, 1)]-q01[(0, 1)]-q01[(1, 0)]\n",
    "    avg_10 = q10[(0, 0)]+q10[(1, 1)]-q10[(0, 1)]-q10[(1, 0)]\n",
    "    avg_11 = q11[(0, 0)]+q11[(1, 1)]-q11[(0, 1)]-q11[(1, 0)]\n",
    "    \n",
    "    CHSH_score = avg_00 + avg_01 + avg_10 - avg_11\n",
    "    \n",
    "    return -CHSH_score"
   ]
  },
  {
   "cell_type": "code",
   "execution_count": 556,
   "id": "741b0bd1",
   "metadata": {},
   "outputs": [
    {
     "data": {
      "image/png": "[encoded data removed]",
      "text/plain": [
       "<Figure size 432x288 with 1 Axes>"
      ]
     },
     "metadata": {
      "needs_background": "light"
     },
     "output_type": "display_data"
    }
   ],
   "source": [
    "import matplotlib.pyplot as plt\n",
    "\n",
    "def optimize_for_fixed_T(T_fixed):\n",
    "    # Objective function with T fixed\n",
    "    def objective(variables):\n",
    "        alpha0, alpha1, beta1 = variables\n",
    "        return CHSH_Score_post_select([T_fixed, alpha0, alpha1, beta1])  # Negative for maximization\n",
    "\n",
    "    # Initial guess for alpha0, alpha1, beta1\n",
    "    init_param = np.random.uniform(0, 2 * np.pi, 3)\n",
    "\n",
    "    # Bounds for the other parameters\n",
    "    bounds = [(0, 2 * np.pi), (0, 2 * np.pi), (0, 2 * np.pi)]\n",
    "\n",
    "    # Optimization\n",
    "    result = minimize(\n",
    "        objective,\n",
    "        init_param,\n",
    "        bounds=bounds,\n",
    "        method='Powell',  # You can experiment with other methods\n",
    "        options={'disp': False}\n",
    "    )\n",
    "    return -result.fun  # Return the maximized score\n",
    "\n",
    "# Array of 50 fixed T values\n",
    "\n",
    "\n",
    "grid = 20\n",
    "T_values = np.linspace(0.001, 0.999, grid)\n",
    "optimized_scores_post_select = np.zeros(grid)\n",
    "\n",
    "# Store optimized scores for each T # repeat optimization 3 times ...\n",
    "\n",
    "\n",
    "for i in range(grid):\n",
    "    T = T_values[i]\n",
    "    Best_val = 0\n",
    "    for _ in range(3):\n",
    "        new_val = optimize_for_fixed_T(T)\n",
    "        if new_val > Best_val:\n",
    "            Best_val = new_val\n",
    "    optimized_scores_post_select[i] = Best_val\n",
    "#optimized_scores = [optimize_for_fixed_T(T) for T in T_values]\n",
    "\n",
    "# Plot the result\n",
    "plt.plot(T_values, optimized_scores_post_select, marker='o', linestyle='-', color='b')\n",
    "plt.xlabel('T (Fixed)')\n",
    "plt.ylabel('Maximized CHSH Score')\n",
    "plt.title('CHSH Score Optimization as a Function of T')\n",
    "plt.grid(True)\n",
    "plt.show()"
   ]
  },
  {
   "cell_type": "code",
   "execution_count": 558,
   "id": "a7601b20",
   "metadata": {},
   "outputs": [
    {
     "data": {
      "image/png": "[encoded data removed]",
      "text/plain": [
       "<Figure size 720x432 with 1 Axes>"
      ]
     },
     "metadata": {
      "needs_background": "light"
     },
     "output_type": "display_data"
    }
   ],
   "source": [
    "optimized_scores_post_select[0] = 2.8284\n",
    "\n",
    "# Plot the result\n",
    "import matplotlib\n",
    "\n",
    "\n",
    "matplotlib.rcParams['mathtext.fontset'] = 'stix'\n",
    "matplotlib.rcParams['font.family'] = 'STIXGeneral'\n",
    "\n",
    "matplotlib.rcParams['axes.titlepad'] = 10  # pad is in points...\n",
    "\n",
    "\n",
    "fig, ax = plt.subplots(figsize=(10,6))\n",
    "\n",
    "\n",
    "plt.plot(T_values, optimized_scores, marker='o', linestyle='-', color='r', label='Standard CHSH Score')\n",
    "plt.plot(T_values, optimized_scores_post_select, marker='o', linestyle='-', color='b', label='Post-Selection CHSH Score')\n",
    "plt.xlabel('T', size = 15)\n",
    "plt.ylabel('Maximized CHSH Score', size = 15)\n",
    "plt.title('CHSH Score Optimization as a Function of T',  size = 20)\n",
    "plt.legend(loc='best' ,prop={'size': 16})  # Add legend with automatic placement\n",
    "plt.grid(True)\n",
    "\n",
    "plt.xticks(fontsize=16)\n",
    "plt.yticks(fontsize=16)\n",
    "plt.show()\n"
   ]
  },
  {
   "cell_type": "code",
   "execution_count": 275,
   "id": "b5588b3e",
   "metadata": {},
   "outputs": [],
   "source": [
    "#fig.savefig('CHSH.pdf', bbox_inches='tight')"
   ]
  },
  {
   "cell_type": "code",
   "execution_count": 245,
   "id": "8a877df1",
   "metadata": {},
   "outputs": [],
   "source": [
    "#np.savez('SPDC_CHSH.npz', T_values=T_values, optimized_scores=optimized_scores, optimized_scores_post_select=optimized_scores_post_select)"
   ]
  },
  {
   "cell_type": "code",
   "execution_count": 243,
   "id": "7f385a65",
   "metadata": {},
   "outputs": [],
   "source": [
    "#optimized_scores_post_select[0] = 2.8284"
   ]
  },
  {
   "cell_type": "code",
   "execution_count": 9,
   "id": "edc27d55",
   "metadata": {},
   "outputs": [],
   "source": [
    "#load the data\n",
    "data = np.load('SPDC_CHSH.npz')\n",
    "T_values = data['T_values']\n",
    "optimized_scores = data['optimized_scores']\n",
    "optimized_scores_post_select = data['optimized_scores_post_select']"
   ]
  },
  {
   "cell_type": "markdown",
   "id": "0d0d78cb",
   "metadata": {},
   "source": [
    "# Randomness"
   ]
  },
  {
   "cell_type": "code",
   "execution_count": 33,
   "id": "9bba32c4",
   "metadata": {},
   "outputs": [],
   "source": [
    "import numpy as np\n",
    "\n",
    "def binary_entropy(p):\n",
    "    \"\"\"Compute the Shannon binary entropy function h(p).\"\"\"\n",
    "    if p == 0 or p == 1:\n",
    "        return 0\n",
    "    return -p * np.log2(p) - (1 - p) * np.log2(1 - p)\n",
    "\n",
    "def randomness(S):\n",
    "    if abs(S)<2:\n",
    "        return 0\n",
    "    \"\"\"Compute the expression h((1 + sqrt((S/2)^2 - 1)) / 2).\"\"\"\n",
    "    inner_term = (S / 2)**2 - 1\n",
    "    if inner_term < 0:\n",
    "        raise ValueError(\"Inner term (S/2)^2 - 1 must be non-negative.\")\n",
    "    \n",
    "    value = (1 + np.sqrt(inner_term)) / 2\n",
    "    return 1-binary_entropy(value)\n"
   ]
  },
  {
   "cell_type": "code",
   "execution_count": 34,
   "id": "40e9d26c",
   "metadata": {},
   "outputs": [
    {
     "data": {
      "image/png": "[encoded data removed]",
      "text/plain": [
       "<Figure size 720x432 with 1 Axes>"
      ]
     },
     "metadata": {
      "needs_background": "light"
     },
     "output_type": "display_data"
    }
   ],
   "source": [
    "randomness_standard = [randomness(S) for S in optimized_scores]\n",
    "randomness_post_select = [randomness(S) for S in optimized_scores_post_select]\n",
    "\n",
    "# Plotting the results\n",
    "plt.figure(figsize=(10, 6))\n",
    "plt.plot(T_values, randomness_standard, label=\"standard\", color='red')\n",
    "plt.plot(T_values, randomness_post_select, label=\"post-selected)\", color='blue')\n",
    "plt.xlabel(\"T\")\n",
    "plt.ylabel(\"H(S)\")\n",
    "plt.title(\"Plot of h((1 + sqrt((S/2)^2 - 1)) / 2) vs S\")\n",
    "plt.grid(True)\n",
    "plt.legend()\n",
    "plt.show()"
   ]
  },
  {
   "cell_type": "code",
   "execution_count": 22,
   "id": "b20d071b",
   "metadata": {},
   "outputs": [
    {
     "data": {
      "text/plain": [
       "[0.999826297425698,\n",
       " 0.9893258566609276,\n",
       " 0.9652427627580736,\n",
       " 0.9316173678080006,\n",
       " 0.8905035196266912,\n",
       " 0.843330456365972,\n",
       " 0.7912118414268824,\n",
       " 0.7350926242113531,\n",
       " 0.6758293921788948,\n",
       " 0.6142337725390885,\n",
       " 0.5510979012165139,\n",
       " 0.4872039132912469,\n",
       " 0.42328560459756825,\n",
       " 0.360008273756533,\n",
       " 0.2978602969686215,\n",
       " 0.2371050139661548,\n",
       " 0.17769139031184844,\n",
       " 0.11919858733111743,\n",
       " 0.0608018824978489,\n",
       " 0]"
      ]
     },
     "execution_count": 22,
     "metadata": {},
     "output_type": "execute_result"
    }
   ],
   "source": [
    "randomness_post_select"
   ]
  },
  {
   "cell_type": "code",
   "execution_count": 35,
   "id": "901a2e3f",
   "metadata": {},
   "outputs": [],
   "source": [
    "p_fail = []\n",
    "T_values = np.linspace(0.001, 0.999, grid)\n",
    "for T in T_values:\n",
    "    mm = M_2x2_parametrized([0, 0, T ])\n",
    "    p_fail.append(p(0,0,0,0,mm))"
   ]
  },
  {
   "cell_type": "code",
   "execution_count": 36,
   "id": "cd1a765b",
   "metadata": {},
   "outputs": [
    {
     "data": {
      "text/plain": [
       "[<matplotlib.lines.Line2D at 0x7fa258e8f9a0>]"
      ]
     },
     "execution_count": 36,
     "metadata": {},
     "output_type": "execute_result"
    },
    {
     "data": {
      "image/png": "[encoded data removed]",
      "text/plain": [
       "<Figure size 432x288 with 1 Axes>"
      ]
     },
     "metadata": {
      "needs_background": "light"
     },
     "output_type": "display_data"
    }
   ],
   "source": [
    "plt.plot(T_values, p_fail)"
   ]
  },
  {
   "cell_type": "code",
   "execution_count": 37,
   "id": "e25e7338",
   "metadata": {},
   "outputs": [
    {
     "data": {
      "image/png": "[encoded data removed]",
      "text/plain": [
       "<Figure size 576x432 with 1 Axes>"
      ]
     },
     "metadata": {
      "needs_background": "light"
     },
     "output_type": "display_data"
    }
   ],
   "source": [
    "import numpy as np\n",
    "import matplotlib.pyplot as plt\n",
    "\n",
    "# Define the function\n",
    "def function(T):\n",
    "    return (1 - T**2)**2\n",
    "\n",
    "# Generate values for T in the range [0, 1]\n",
    "T_values = np.linspace(0, 1, 100)\n",
    "\n",
    "# Compute the function values\n",
    "y_values = function(T_values)\n",
    "\n",
    "# Plot the function\n",
    "plt.figure(figsize=(8, 6))\n",
    "plt.plot(T_values, y_values, label=r\"$(1 - T^2)^2$\", color='blue')\n",
    "plt.xlabel(\"T\")\n",
    "plt.ylabel(\"Function Value\")\n",
    "plt.title(\"Plot of $(1 - T^2)^2$ for $T \\in [0, 1]$\")\n",
    "plt.grid(True)\n",
    "plt.legend()\n",
    "plt.show()\n"
   ]
  },
  {
   "cell_type": "code",
   "execution_count": 38,
   "id": "6c59b0cb",
   "metadata": {},
   "outputs": [
    {
     "data": {
      "image/png": "[encoded data removed]",
      "text/plain": [
       "<Figure size 720x432 with 1 Axes>"
      ]
     },
     "metadata": {
      "needs_background": "light"
     },
     "output_type": "display_data"
    }
   ],
   "source": [
    "randomness_standard = [randomness(S) for S in optimized_scores]\n",
    "randomness_post_select = []\n",
    "\n",
    "\n",
    "\n",
    "T_values = np.linspace(0.001, 0.999, grid)\n",
    "\n",
    "for i in range(20):\n",
    "    T = T_values[i]\n",
    "    mm = M_2x2_parametrized([0, 0, T ])\n",
    "    S = optimized_scores_post_select[i]\n",
    "    r = randomness(S)*(1-p(0,0,0,0,mm))\n",
    "    randomness_post_select.append(r)\n",
    "\n",
    "# Plotting the results\n",
    "\n",
    "fig, ax = plt.subplots(figsize=(10,6))\n",
    "\n",
    "plt.plot(T_values, randomness_standard, marker='o', linestyle='-', label=\"Standard\", color='red')\n",
    "plt.plot(T_values, randomness_post_select, marker='o', linestyle='-', label=\"Post-selected\", color='blue')\n",
    "plt.xlabel(\"T\", size = 15)\n",
    "plt.ylabel(\"R\", size = 15)\n",
    "plt.title(\"Randomness Rate as a Function of T\",  size = 20)\n",
    "plt.grid(True)\n",
    "plt.legend(loc='best' ,prop={'size': 16})  # Add legend with automatic placement\n",
    "plt.xticks(fontsize=16)\n",
    "plt.yticks(fontsize=16)\n",
    "plt.show()\n"
   ]
  },
  {
   "cell_type": "code",
   "execution_count": 39,
   "id": "de093c94",
   "metadata": {},
   "outputs": [],
   "source": [
    "fig.savefig('Randomness_Bell.pdf', bbox_inches='tight')"
   ]
  },
  {
   "cell_type": "code",
   "execution_count": 572,
   "id": "6b55f715",
   "metadata": {},
   "outputs": [
    {
     "name": "stderr",
     "output_type": "stream",
     "text": [
      "/var/folders/hp/59m8q4js7lx0mprsqm5s803c0000gn/T/ipykernel_7526/2911060405.py:1: RuntimeWarning: divide by zero encountered in double_scalars\n",
      "  advantage = [randomness_post_select[i]/randomness_standard[i] for i in range(len(randomness_standard))]\n"
     ]
    },
    {
     "data": {
      "text/plain": [
       "[<matplotlib.lines.Line2D at 0x7fdf52643f40>]"
      ]
     },
     "execution_count": 572,
     "metadata": {},
     "output_type": "execute_result"
    },
    {
     "data": {
      "image/png": "[encoded data removed]",
      "text/plain": [
       "<Figure size 432x288 with 1 Axes>"
      ]
     },
     "metadata": {
      "needs_background": "light"
     },
     "output_type": "display_data"
    }
   ],
   "source": [
    "advantage = [randomness_post_select[i]/randomness_standard[i] for i in range(len(randomness_standard))]\n",
    "\n",
    "plt.plot(T_values, advantage, marker='o', linestyle='-', label=\"Standard\", color='red')\n"
   ]
  },
  {
   "cell_type": "code",
   "execution_count": null,
   "id": "3530f896",
   "metadata": {},
   "outputs": [],
   "source": []
  },
  {
   "cell_type": "code",
   "execution_count": 236,
   "id": "67abec62",
   "metadata": {},
   "outputs": [
    {
     "name": "stderr",
     "output_type": "stream",
     "text": [
      "/var/folders/hp/59m8q4js7lx0mprsqm5s803c0000gn/T/ipykernel_7526/3729732510.py:7: RuntimeWarning: invalid value encountered in log2\n",
      "  return -p * np.log2(p) - (1 - p) * np.log2(1 - p)\n"
     ]
    },
    {
     "data": {
      "text/plain": [
       "nan"
      ]
     },
     "execution_count": 236,
     "metadata": {},
     "output_type": "execute_result"
    }
   ],
   "source": [
    "i= 0\n",
    "T = T_values[i]\n",
    "mm = M_2x2_parametrized([0, 0, T ])\n",
    "S = optimized_scores_post_select[i]\n",
    "r = randomness(S)*(1-p(0,0,0,0,mm))\n",
    "r"
   ]
  },
  {
   "cell_type": "code",
   "execution_count": 238,
   "id": "715e3739",
   "metadata": {},
   "outputs": [
    {
     "data": {
      "text/plain": [
       "0.999998"
      ]
     },
     "execution_count": 238,
     "metadata": {},
     "output_type": "execute_result"
    }
   ],
   "source": [
    "p(0,0,0,0,mm)"
   ]
  },
  {
   "cell_type": "code",
   "execution_count": 239,
   "id": "31b3f53b",
   "metadata": {},
   "outputs": [
    {
     "name": "stderr",
     "output_type": "stream",
     "text": [
      "/var/folders/hp/59m8q4js7lx0mprsqm5s803c0000gn/T/ipykernel_7526/3729732510.py:7: RuntimeWarning: invalid value encountered in log2\n",
      "  return -p * np.log2(p) - (1 - p) * np.log2(1 - p)\n"
     ]
    },
    {
     "data": {
      "text/plain": [
       "nan"
      ]
     },
     "execution_count": 239,
     "metadata": {},
     "output_type": "execute_result"
    }
   ],
   "source": [
    "randomness(S)"
   ]
  },
  {
   "cell_type": "code",
   "execution_count": 240,
   "id": "a267104d",
   "metadata": {},
   "outputs": [
    {
     "data": {
      "text/plain": [
       "2.840000000075986"
      ]
     },
     "execution_count": 240,
     "metadata": {},
     "output_type": "execute_result"
    }
   ],
   "source": [
    "S"
   ]
  },
  {
   "cell_type": "code",
   "execution_count": 241,
   "id": "85d5a91e",
   "metadata": {},
   "outputs": [
    {
     "data": {
      "text/plain": [
       "2.8284271247461903"
      ]
     },
     "execution_count": 241,
     "metadata": {},
     "output_type": "execute_result"
    }
   ],
   "source": [
    "2*np.sqrt(2)"
   ]
  },
  {
   "cell_type": "code",
   "execution_count": null,
   "id": "624a496c",
   "metadata": {},
   "outputs": [],
   "source": []
  },
  {
   "cell_type": "code",
   "execution_count": 18,
   "id": "bafe9c7b",
   "metadata": {},
   "outputs": [
    {
     "ename": "ValueError",
     "evalue": "x and y must have same first dimension, but have shapes (20,) and (0,)",
     "output_type": "error",
     "traceback": [
      "\u001b[0;31m---------------------------------------------------------------------------\u001b[0m",
      "\u001b[0;31mValueError\u001b[0m                                Traceback (most recent call last)",
      "Input \u001b[0;32mIn [18]\u001b[0m, in \u001b[0;36m<cell line: 4>\u001b[0;34m()\u001b[0m\n\u001b[1;32m      1\u001b[0m fig, ax \u001b[38;5;241m=\u001b[39m plt\u001b[38;5;241m.\u001b[39msubplots(figsize\u001b[38;5;241m=\u001b[39m(\u001b[38;5;241m10\u001b[39m,\u001b[38;5;241m6\u001b[39m))\n\u001b[1;32m      3\u001b[0m plt\u001b[38;5;241m.\u001b[39mplot(T_values, randomness_standard, marker\u001b[38;5;241m=\u001b[39m\u001b[38;5;124m'\u001b[39m\u001b[38;5;124mo\u001b[39m\u001b[38;5;124m'\u001b[39m, linestyle\u001b[38;5;241m=\u001b[39m\u001b[38;5;124m'\u001b[39m\u001b[38;5;124m-\u001b[39m\u001b[38;5;124m'\u001b[39m, label\u001b[38;5;241m=\u001b[39m\u001b[38;5;124m\"\u001b[39m\u001b[38;5;124mStandard\u001b[39m\u001b[38;5;124m\"\u001b[39m, color\u001b[38;5;241m=\u001b[39m\u001b[38;5;124m'\u001b[39m\u001b[38;5;124mred\u001b[39m\u001b[38;5;124m'\u001b[39m)\n\u001b[0;32m----> 4\u001b[0m \u001b[43mplt\u001b[49m\u001b[38;5;241;43m.\u001b[39;49m\u001b[43mplot\u001b[49m\u001b[43m(\u001b[49m\u001b[43mT_values\u001b[49m\u001b[43m,\u001b[49m\u001b[43m \u001b[49m\u001b[43mrandomness_post_select\u001b[49m\u001b[43m,\u001b[49m\u001b[43m \u001b[49m\u001b[43mmarker\u001b[49m\u001b[38;5;241;43m=\u001b[39;49m\u001b[38;5;124;43m'\u001b[39;49m\u001b[38;5;124;43mo\u001b[39;49m\u001b[38;5;124;43m'\u001b[39;49m\u001b[43m,\u001b[49m\u001b[43m \u001b[49m\u001b[43mlinestyle\u001b[49m\u001b[38;5;241;43m=\u001b[39;49m\u001b[38;5;124;43m'\u001b[39;49m\u001b[38;5;124;43m-\u001b[39;49m\u001b[38;5;124;43m'\u001b[39;49m\u001b[43m,\u001b[49m\u001b[43m \u001b[49m\u001b[43mlabel\u001b[49m\u001b[38;5;241;43m=\u001b[39;49m\u001b[38;5;124;43m\"\u001b[39;49m\u001b[38;5;124;43mPost-selected\u001b[39;49m\u001b[38;5;124;43m\"\u001b[39;49m\u001b[43m,\u001b[49m\u001b[43m \u001b[49m\u001b[43mcolor\u001b[49m\u001b[38;5;241;43m=\u001b[39;49m\u001b[38;5;124;43m'\u001b[39;49m\u001b[38;5;124;43mblue\u001b[39;49m\u001b[38;5;124;43m'\u001b[39;49m\u001b[43m)\u001b[49m\n\u001b[1;32m      6\u001b[0m plt\u001b[38;5;241m.\u001b[39mplot(T_values, optimized_scores, marker\u001b[38;5;241m=\u001b[39m\u001b[38;5;124m'\u001b[39m\u001b[38;5;124mo\u001b[39m\u001b[38;5;124m'\u001b[39m, linestyle\u001b[38;5;241m=\u001b[39m\u001b[38;5;124m'\u001b[39m\u001b[38;5;124m-\u001b[39m\u001b[38;5;124m'\u001b[39m, color\u001b[38;5;241m=\u001b[39m\u001b[38;5;124m'\u001b[39m\u001b[38;5;124mr\u001b[39m\u001b[38;5;124m'\u001b[39m, label\u001b[38;5;241m=\u001b[39m\u001b[38;5;124m'\u001b[39m\u001b[38;5;124mStandard CHSH Score\u001b[39m\u001b[38;5;124m'\u001b[39m)\n\u001b[1;32m      7\u001b[0m plt\u001b[38;5;241m.\u001b[39mplot(T_values, optimized_scores_post_select, marker\u001b[38;5;241m=\u001b[39m\u001b[38;5;124m'\u001b[39m\u001b[38;5;124mo\u001b[39m\u001b[38;5;124m'\u001b[39m, linestyle\u001b[38;5;241m=\u001b[39m\u001b[38;5;124m'\u001b[39m\u001b[38;5;124m-\u001b[39m\u001b[38;5;124m'\u001b[39m, color\u001b[38;5;241m=\u001b[39m\u001b[38;5;124m'\u001b[39m\u001b[38;5;124mb\u001b[39m\u001b[38;5;124m'\u001b[39m, label\u001b[38;5;241m=\u001b[39m\u001b[38;5;124m'\u001b[39m\u001b[38;5;124mPost-Selection CHSH Score\u001b[39m\u001b[38;5;124m'\u001b[39m)\n",
      "File \u001b[0;32m~/opt/anaconda3/lib/python3.9/site-packages/matplotlib/pyplot.py:2757\u001b[0m, in \u001b[0;36mplot\u001b[0;34m(scalex, scaley, data, *args, **kwargs)\u001b[0m\n\u001b[1;32m   2755\u001b[0m \u001b[38;5;129m@_copy_docstring_and_deprecators\u001b[39m(Axes\u001b[38;5;241m.\u001b[39mplot)\n\u001b[1;32m   2756\u001b[0m \u001b[38;5;28;01mdef\u001b[39;00m \u001b[38;5;21mplot\u001b[39m(\u001b[38;5;241m*\u001b[39margs, scalex\u001b[38;5;241m=\u001b[39m\u001b[38;5;28;01mTrue\u001b[39;00m, scaley\u001b[38;5;241m=\u001b[39m\u001b[38;5;28;01mTrue\u001b[39;00m, data\u001b[38;5;241m=\u001b[39m\u001b[38;5;28;01mNone\u001b[39;00m, \u001b[38;5;241m*\u001b[39m\u001b[38;5;241m*\u001b[39mkwargs):\n\u001b[0;32m-> 2757\u001b[0m     \u001b[38;5;28;01mreturn\u001b[39;00m \u001b[43mgca\u001b[49m\u001b[43m(\u001b[49m\u001b[43m)\u001b[49m\u001b[38;5;241;43m.\u001b[39;49m\u001b[43mplot\u001b[49m\u001b[43m(\u001b[49m\n\u001b[1;32m   2758\u001b[0m \u001b[43m        \u001b[49m\u001b[38;5;241;43m*\u001b[39;49m\u001b[43margs\u001b[49m\u001b[43m,\u001b[49m\u001b[43m \u001b[49m\u001b[43mscalex\u001b[49m\u001b[38;5;241;43m=\u001b[39;49m\u001b[43mscalex\u001b[49m\u001b[43m,\u001b[49m\u001b[43m \u001b[49m\u001b[43mscaley\u001b[49m\u001b[38;5;241;43m=\u001b[39;49m\u001b[43mscaley\u001b[49m\u001b[43m,\u001b[49m\n\u001b[1;32m   2759\u001b[0m \u001b[43m        \u001b[49m\u001b[38;5;241;43m*\u001b[39;49m\u001b[38;5;241;43m*\u001b[39;49m\u001b[43m(\u001b[49m\u001b[43m{\u001b[49m\u001b[38;5;124;43m\"\u001b[39;49m\u001b[38;5;124;43mdata\u001b[39;49m\u001b[38;5;124;43m\"\u001b[39;49m\u001b[43m:\u001b[49m\u001b[43m \u001b[49m\u001b[43mdata\u001b[49m\u001b[43m}\u001b[49m\u001b[43m \u001b[49m\u001b[38;5;28;43;01mif\u001b[39;49;00m\u001b[43m \u001b[49m\u001b[43mdata\u001b[49m\u001b[43m \u001b[49m\u001b[38;5;129;43;01mis\u001b[39;49;00m\u001b[43m \u001b[49m\u001b[38;5;129;43;01mnot\u001b[39;49;00m\u001b[43m \u001b[49m\u001b[38;5;28;43;01mNone\u001b[39;49;00m\u001b[43m \u001b[49m\u001b[38;5;28;43;01melse\u001b[39;49;00m\u001b[43m \u001b[49m\u001b[43m{\u001b[49m\u001b[43m}\u001b[49m\u001b[43m)\u001b[49m\u001b[43m,\u001b[49m\u001b[43m \u001b[49m\u001b[38;5;241;43m*\u001b[39;49m\u001b[38;5;241;43m*\u001b[39;49m\u001b[43mkwargs\u001b[49m\u001b[43m)\u001b[49m\n",
      "File \u001b[0;32m~/opt/anaconda3/lib/python3.9/site-packages/matplotlib/axes/_axes.py:1632\u001b[0m, in \u001b[0;36mAxes.plot\u001b[0;34m(self, scalex, scaley, data, *args, **kwargs)\u001b[0m\n\u001b[1;32m   1390\u001b[0m \u001b[38;5;124;03m\"\"\"\u001b[39;00m\n\u001b[1;32m   1391\u001b[0m \u001b[38;5;124;03mPlot y versus x as lines and/or markers.\u001b[39;00m\n\u001b[1;32m   1392\u001b[0m \n\u001b[0;32m   (...)\u001b[0m\n\u001b[1;32m   1629\u001b[0m \u001b[38;5;124;03m(``'green'``) or hex strings (``'#008000'``).\u001b[39;00m\n\u001b[1;32m   1630\u001b[0m \u001b[38;5;124;03m\"\"\"\u001b[39;00m\n\u001b[1;32m   1631\u001b[0m kwargs \u001b[38;5;241m=\u001b[39m cbook\u001b[38;5;241m.\u001b[39mnormalize_kwargs(kwargs, mlines\u001b[38;5;241m.\u001b[39mLine2D)\n\u001b[0;32m-> 1632\u001b[0m lines \u001b[38;5;241m=\u001b[39m [\u001b[38;5;241m*\u001b[39m\u001b[38;5;28mself\u001b[39m\u001b[38;5;241m.\u001b[39m_get_lines(\u001b[38;5;241m*\u001b[39margs, data\u001b[38;5;241m=\u001b[39mdata, \u001b[38;5;241m*\u001b[39m\u001b[38;5;241m*\u001b[39mkwargs)]\n\u001b[1;32m   1633\u001b[0m \u001b[38;5;28;01mfor\u001b[39;00m line \u001b[38;5;129;01min\u001b[39;00m lines:\n\u001b[1;32m   1634\u001b[0m     \u001b[38;5;28mself\u001b[39m\u001b[38;5;241m.\u001b[39madd_line(line)\n",
      "File \u001b[0;32m~/opt/anaconda3/lib/python3.9/site-packages/matplotlib/axes/_base.py:312\u001b[0m, in \u001b[0;36m_process_plot_var_args.__call__\u001b[0;34m(self, data, *args, **kwargs)\u001b[0m\n\u001b[1;32m    310\u001b[0m     this \u001b[38;5;241m+\u001b[39m\u001b[38;5;241m=\u001b[39m args[\u001b[38;5;241m0\u001b[39m],\n\u001b[1;32m    311\u001b[0m     args \u001b[38;5;241m=\u001b[39m args[\u001b[38;5;241m1\u001b[39m:]\n\u001b[0;32m--> 312\u001b[0m \u001b[38;5;28;01myield from\u001b[39;00m \u001b[38;5;28;43mself\u001b[39;49m\u001b[38;5;241;43m.\u001b[39;49m\u001b[43m_plot_args\u001b[49m\u001b[43m(\u001b[49m\u001b[43mthis\u001b[49m\u001b[43m,\u001b[49m\u001b[43m \u001b[49m\u001b[43mkwargs\u001b[49m\u001b[43m)\u001b[49m\n",
      "File \u001b[0;32m~/opt/anaconda3/lib/python3.9/site-packages/matplotlib/axes/_base.py:498\u001b[0m, in \u001b[0;36m_process_plot_var_args._plot_args\u001b[0;34m(self, tup, kwargs, return_kwargs)\u001b[0m\n\u001b[1;32m    495\u001b[0m     \u001b[38;5;28mself\u001b[39m\u001b[38;5;241m.\u001b[39maxes\u001b[38;5;241m.\u001b[39myaxis\u001b[38;5;241m.\u001b[39mupdate_units(y)\n\u001b[1;32m    497\u001b[0m \u001b[38;5;28;01mif\u001b[39;00m x\u001b[38;5;241m.\u001b[39mshape[\u001b[38;5;241m0\u001b[39m] \u001b[38;5;241m!=\u001b[39m y\u001b[38;5;241m.\u001b[39mshape[\u001b[38;5;241m0\u001b[39m]:\n\u001b[0;32m--> 498\u001b[0m     \u001b[38;5;28;01mraise\u001b[39;00m \u001b[38;5;167;01mValueError\u001b[39;00m(\u001b[38;5;124mf\u001b[39m\u001b[38;5;124m\"\u001b[39m\u001b[38;5;124mx and y must have same first dimension, but \u001b[39m\u001b[38;5;124m\"\u001b[39m\n\u001b[1;32m    499\u001b[0m                      \u001b[38;5;124mf\u001b[39m\u001b[38;5;124m\"\u001b[39m\u001b[38;5;124mhave shapes \u001b[39m\u001b[38;5;132;01m{\u001b[39;00mx\u001b[38;5;241m.\u001b[39mshape\u001b[38;5;132;01m}\u001b[39;00m\u001b[38;5;124m and \u001b[39m\u001b[38;5;132;01m{\u001b[39;00my\u001b[38;5;241m.\u001b[39mshape\u001b[38;5;132;01m}\u001b[39;00m\u001b[38;5;124m\"\u001b[39m)\n\u001b[1;32m    500\u001b[0m \u001b[38;5;28;01mif\u001b[39;00m x\u001b[38;5;241m.\u001b[39mndim \u001b[38;5;241m>\u001b[39m \u001b[38;5;241m2\u001b[39m \u001b[38;5;129;01mor\u001b[39;00m y\u001b[38;5;241m.\u001b[39mndim \u001b[38;5;241m>\u001b[39m \u001b[38;5;241m2\u001b[39m:\n\u001b[1;32m    501\u001b[0m     \u001b[38;5;28;01mraise\u001b[39;00m \u001b[38;5;167;01mValueError\u001b[39;00m(\u001b[38;5;124mf\u001b[39m\u001b[38;5;124m\"\u001b[39m\u001b[38;5;124mx and y can be no greater than 2D, but have \u001b[39m\u001b[38;5;124m\"\u001b[39m\n\u001b[1;32m    502\u001b[0m                      \u001b[38;5;124mf\u001b[39m\u001b[38;5;124m\"\u001b[39m\u001b[38;5;124mshapes \u001b[39m\u001b[38;5;132;01m{\u001b[39;00mx\u001b[38;5;241m.\u001b[39mshape\u001b[38;5;132;01m}\u001b[39;00m\u001b[38;5;124m and \u001b[39m\u001b[38;5;132;01m{\u001b[39;00my\u001b[38;5;241m.\u001b[39mshape\u001b[38;5;132;01m}\u001b[39;00m\u001b[38;5;124m\"\u001b[39m)\n",
      "\u001b[0;31mValueError\u001b[0m: x and y must have same first dimension, but have shapes (20,) and (0,)"
     ]
    },
    {
     "data": {
      "image/png": "[encoded data removed]",
      "text/plain": [
       "<Figure size 720x432 with 1 Axes>"
      ]
     },
     "metadata": {
      "needs_background": "light"
     },
     "output_type": "display_data"
    }
   ],
   "source": [
    "\n",
    "fig, ax = plt.subplots(figsize=(10,6))\n",
    "\n",
    "plt.plot(T_values, randomness_standard, marker='o', linestyle='-', label=\"Standard\", color='red')\n",
    "plt.plot(T_values, randomness_post_select, marker='o', linestyle='-', label=\"Post-selected\", color='blue')\n",
    "\n",
    "plt.plot(T_values, optimized_scores, marker='o', linestyle='-', color='r', label='Standard CHSH Score')\n",
    "plt.plot(T_values, optimized_scores_post_select, marker='o', linestyle='-', color='b', label='Post-Selection CHSH Score')\n",
    "\n",
    "\n",
    "plt.xlabel(\"T\", size = 15)\n",
    "plt.ylabel(\"R/S\", size = 15)\n",
    "plt.title(\"Randomness Rate/ CHSH Score as a Function of T\",  size = 20)\n",
    "plt.grid(True)\n",
    "plt.legend(loc='best' ,prop={'size': 16})  # Add legend with automatic placement\n",
    "plt.xticks(fontsize=16)\n",
    "plt.yticks(fontsize=16)\n",
    "plt.show()\n"
   ]
  },
  {
   "cell_type": "code",
   "execution_count": 58,
   "id": "c4263e33",
   "metadata": {},
   "outputs": [
    {
     "data": {
      "image/png": "[encoded data removed]",
      "text/plain": [
       "<Figure size 1008x576 with 2 Axes>"
      ]
     },
     "metadata": {
      "needs_background": "light"
     },
     "output_type": "display_data"
    }
   ],
   "source": [
    "#plt.style.use('seaborn-dark-palette')\n",
    "\n",
    "matplotlib.rcParams['mathtext.fontset'] = 'stix'\n",
    "matplotlib.rcParams['font.family'] = 'STIXGeneral'\n",
    "\n",
    "matplotlib.rcParams['axes.titlepad'] = 10  # pad is in points...\n",
    "\n",
    "\n",
    "\n",
    "\n",
    "\n",
    "\n",
    "\n",
    "import matplotlib.pyplot as plt\n",
    "\n",
    "fig, ax1 = plt.subplots(figsize=(14, 8))\n",
    "ax = plt.subplot(111)\n",
    "\n",
    "# Plot S values on the primary y-axis\n",
    "\n",
    "ax1.plot(T_values, optimized_scores,marker='o', markersize=14, linestyle='--', color='orangered', label='Standard CHSH Score',linewidth=3.0)\n",
    "ax1.plot(T_values, optimized_scores_post_select,marker='^', markersize=14, linestyle='--', color='darkblue', label='Post-selected CHSH Score',linewidth=3.0)\n",
    "ax1.set_xlabel(\"T\", size=32)\n",
    "ax1.set_ylabel(\"CHSH\", size=32)\n",
    "ax1.tick_params(axis='y')\n",
    "plt.yticks(fontsize=25)\n",
    "plt.xticks(fontsize=25)\n",
    "ax1.grid(True)\n",
    "\n",
    "# Secondary y-axis for R values\n",
    "ax2 = ax1.twinx()\n",
    "ax2.plot(T_values, randomness_standard,marker='o', markersize=14, linestyle='-', label=\"Standard Randomness Rate\", color='r',linewidth=3.0)\n",
    "ax2.plot(T_values, randomness_post_select,marker='^', markersize=14, linestyle='-', label=\"Post-selected Randomness Rate\", color='b',linewidth=3.0)\n",
    "\n",
    "ax2.set_ylabel(\"Randomness\", size=32)\n",
    "ax2.tick_params(axis='y')\n",
    "\n",
    "# Combined legend\n",
    "#fig.legend(loc='upper right', prop={'size': 12})\n",
    "fig.legend(loc='lower center', bbox_to_anchor=(0.5, -0.2), ncol=2, prop={'size': 32})\n",
    "\n",
    "\n",
    "# Title and formatting\n",
    "#plt.title(\"Randomness Rate/CHSH Score as a Function of T\", size=20)\n",
    "#plt.xticks(fontsize=16)\n",
    "\n",
    "plt.xticks(fontsize=25)\n",
    "plt.yticks(fontsize=25)\n",
    "\n",
    "plt.show()\n"
   ]
  },
  {
   "cell_type": "code",
   "execution_count": 59,
   "id": "745bdbed",
   "metadata": {},
   "outputs": [],
   "source": [
    "fig.savefig('SPDC_plot_marker2.pdf', bbox_inches='tight')"
   ]
  },
  {
   "cell_type": "markdown",
   "id": "ac31dba6",
   "metadata": {},
   "source": [
    "# Maximize Randomness Rate with both T1 and T2"
   ]
  },
  {
   "cell_type": "code",
   "execution_count": null,
   "id": "e3484f43",
   "metadata": {},
   "outputs": [],
   "source": []
  },
  {
   "cell_type": "markdown",
   "id": "27e65b88",
   "metadata": {},
   "source": [
    "### standard"
   ]
  },
  {
   "cell_type": "code",
   "execution_count": 456,
   "id": "2465a1b6",
   "metadata": {},
   "outputs": [],
   "source": [
    "def CHSH_Score_general(params):\n",
    "    \n",
    "    [T1, T2, alpha0, alpha1, beta0, beta1] = params\n",
    "    \n",
    "    \n",
    "    D = np.diag([T1, T2])\n",
    "    \n",
    "    Ra0 = np.array([\n",
    "        [np.cos(alpha0), -np.sin(alpha0)],\n",
    "        [np.sin(alpha0),  np.cos(alpha0)]])\n",
    "    \n",
    "    Ra1 = np.array([\n",
    "        [np.cos(alpha1), -np.sin(alpha1)],\n",
    "        [np.sin(alpha1),  np.cos(alpha1)]])\n",
    "    \n",
    "    \n",
    "    Rb0 = np.array([\n",
    "        [np.cos(beta0), -np.sin(beta0)],\n",
    "        [np.sin(beta0),  np.cos(beta0)]])\n",
    "    \n",
    "    Rb1 = np.array([\n",
    "        [np.cos(beta1), -np.sin(beta1)],\n",
    "        [np.sin(beta1),  np.cos(beta1)]])\n",
    "    \n",
    "    \n",
    "    # Mxy\n",
    "    M00 = Ra0 @ D @ Rb0.T\n",
    "    M01 = Ra0 @ D @ Rb1.T\n",
    "    M10 = Ra1 @ D @ Rb0.T\n",
    "    M11 = Ra1 @ D @ Rb1.T\n",
    "    \n",
    "    \n",
    "    #....................................................\n",
    "    \n",
    "    # Initialize q(a, b)\n",
    "    q00 = {\n",
    "        (0, 0): 0.0,\n",
    "        (0, 1): 0.0,\n",
    "        (1, 0): 0.0,\n",
    "        (1, 1): 0.0}\n",
    "    \n",
    "    q01 = q00.copy()\n",
    "    q10 = q00.copy()\n",
    "    q11 = q00.copy()\n",
    "    \n",
    "    \n",
    "    # Collect all possible combinations\n",
    "    all_combinations = [(a1, a2, b1, b2) for a1 in [0, 1] for a2 in [0, 1]\n",
    "                                         for b1 in [0, 1] for b2 in [0, 1]]\n",
    "\n",
    "    # Compute q(a, b)\n",
    "    # here we assume the same relabaling for all x,y inputs\n",
    "    for a1, a2, b1, b2 in all_combinations:\n",
    "        prob00 = p(a1, a2, b1, b2, M00)\n",
    "        prob01 = p(a1, a2, b1, b2, M01)\n",
    "        prob10 = p(a1, a2, b1, b2, M10)\n",
    "        prob11 = p(a1, a2, b1, b2, M11)\n",
    "\n",
    "        # Get local mappings for Alice and Bob\n",
    "        a = alice_mapping(a1, a2)\n",
    "        b = bob_mapping(b1, b2)\n",
    "\n",
    "        q00[(a, b)] += prob00\n",
    "        q01[(a, b)] += prob01\n",
    "        q10[(a, b)] += prob10\n",
    "        q11[(a, b)] += prob11\n",
    "        \n",
    "    avg_00 = q00[(0, 0)]+q00[(1, 1)]-q00[(0, 1)]-q00[(1, 0)]\n",
    "    avg_01 = q01[(0, 0)]+q01[(1, 1)]-q01[(0, 1)]-q01[(1, 0)]\n",
    "    avg_10 = q10[(0, 0)]+q10[(1, 1)]-q10[(0, 1)]-q10[(1, 0)]\n",
    "    avg_11 = q11[(0, 0)]+q11[(1, 1)]-q11[(0, 1)]-q11[(1, 0)]\n",
    "    \n",
    "    CHSH_score = avg_00 + avg_01 + avg_10 - avg_11\n",
    "    \n",
    "    return -CHSH_score"
   ]
  },
  {
   "cell_type": "markdown",
   "id": "31c9f50e",
   "metadata": {},
   "source": []
  },
  {
   "cell_type": "code",
   "execution_count": 506,
   "id": "964c85aa",
   "metadata": {},
   "outputs": [
    {
     "name": "stdout",
     "output_type": "stream",
     "text": [
      "Optimization terminated successfully.\n",
      "         Current function value: -0.481881\n",
      "         Iterations: 6\n",
      "         Function evaluations: 478\n",
      "Optimized matrix m:\n",
      " [0.68785608 0.61708394 3.47641069 2.94451424 3.20901693 3.75466335]\n",
      "Objective value: 0.48188074376280643\n",
      "CHSH_Score: 2.30457949\n",
      "Randomness: 0.2514227947628064\n"
     ]
    }
   ],
   "source": [
    "### [T1, T2, alpha0, alpha1, beta0, beta1] = params\n",
    "\n",
    "\n",
    "from scipy.optimize import minimize\n",
    "\n",
    "\n",
    "def objr(params):\n",
    "    S = CHSH_Score_general(params)\n",
    "    r = randomness(S)\n",
    "    return -r+0.1*S\n",
    "    \n",
    "\n",
    "\n",
    "\n",
    "init_param = np.random.uniform(0, 1, 6)  # Random starting matrix  #########????\n",
    "bounds = [(0, 1),(0, 1), (0, 2*np.pi), (0, 2*np.pi),(0, 2*np.pi), (0, 2*np.pi)]  # Element-wise bounds for m\n",
    "\n",
    "\n",
    "\n",
    "# Optimize\n",
    "result = minimize(\n",
    "    objr,\n",
    "    init_param,\n",
    "    bounds=bounds,\n",
    "    method='Powell',# Nelder-Mead , Powell\n",
    "    options={'disp': True}\n",
    ")\n",
    "\n",
    "# Results\n",
    "optimized_m = result.x\n",
    "print(\"Optimized matrix m:\\n\", optimized_m)\n",
    "print(\"Objective value:\", -result.fun)\n",
    "\n",
    "S_opt = CHSH_Score_general(optimized_m)\n",
    "print(\"CHSH_Score:\", -S_opt)\n",
    "print(\"Randomness:\", randomness(S_opt))"
   ]
  },
  {
   "cell_type": "code",
   "execution_count": null,
   "id": "968fcaa4",
   "metadata": {},
   "outputs": [],
   "source": [
    "[0.60984154 0.71480544 1.66836888 4.30636794 4.56379381 1.92144051]\n",
    "Objective value: 0.483102278993771\n",
    "CHSH_Score: 2.30574724\n",
    "Randomness: 0.252527554993771"
   ]
  },
  {
   "cell_type": "markdown",
   "id": "cead8c09",
   "metadata": {},
   "source": [
    "### post-selected"
   ]
  },
  {
   "cell_type": "code",
   "execution_count": 507,
   "id": "743d9652",
   "metadata": {},
   "outputs": [],
   "source": [
    "def CHSH_Score_general_postselect(params):\n",
    "    \n",
    "    [T1, T2, alpha0, alpha1, beta0, beta1] = params\n",
    "    \n",
    "    \n",
    "    D = np.diag([T1, T2])\n",
    "    \n",
    "    Ra0 = np.array([\n",
    "        [np.cos(alpha0), -np.sin(alpha0)],\n",
    "        [np.sin(alpha0),  np.cos(alpha0)]])\n",
    "    \n",
    "    Ra1 = np.array([\n",
    "        [np.cos(alpha1), -np.sin(alpha1)],\n",
    "        [np.sin(alpha1),  np.cos(alpha1)]])\n",
    "    \n",
    "    \n",
    "    Rb0 = np.array([\n",
    "        [np.cos(beta0), -np.sin(beta0)],\n",
    "        [np.sin(beta0),  np.cos(beta0)]])\n",
    "    \n",
    "    Rb1 = np.array([\n",
    "        [np.cos(beta1), -np.sin(beta1)],\n",
    "        [np.sin(beta1),  np.cos(beta1)]])\n",
    "    \n",
    "    \n",
    "    # Mxy\n",
    "    M00 = Ra0 @ D @ Rb0.T\n",
    "    M01 = Ra0 @ D @ Rb1.T\n",
    "    M10 = Ra1 @ D @ Rb0.T\n",
    "    M11 = Ra1 @ D @ Rb1.T\n",
    "    \n",
    "    \n",
    "    #....................................................\n",
    "    \n",
    "    # Initialize q(a, b)\n",
    "    q00 = {\n",
    "        (0, 0): 0.0,\n",
    "        (0, 1): 0.0,\n",
    "        (1, 0): 0.0,\n",
    "        (1, 1): 0.0}\n",
    "    \n",
    "    q01 = q00.copy()\n",
    "    q10 = q00.copy()\n",
    "    q11 = q00.copy()\n",
    "    \n",
    "    # Local mappings for Alice and Bob\n",
    "    def local_mapping_a(a1, a2):\n",
    "        # valid terms\n",
    "        if (a1, a2) == (0, 1):\n",
    "            return 0\n",
    "        elif (a1, a2) == (1, 0):\n",
    "            return 1\n",
    "\n",
    "        # not valid terms\n",
    "        elif (a1, a2) == (0, 0):\n",
    "            return 0\n",
    "        elif (a1, a2) == (1, 1):\n",
    "            return 0\n",
    "        \n",
    "        \n",
    "    def local_mapping_b(a1, a2):\n",
    "        # valid terms\n",
    "        if (a1, a2) == (0, 1):\n",
    "            return 0\n",
    "        elif (a1, a2) == (1, 0):\n",
    "            return 1\n",
    "\n",
    "        # not valid terms\n",
    "        elif (a1, a2) == (0, 0):\n",
    "            return 0\n",
    "        elif (a1, a2) == (1, 1):\n",
    "            return 0\n",
    "    \n",
    "    \n",
    "    # Collect all possible combinations\n",
    "    all_combinations = [(a1, a2, b1, b2) for a1 in [0, 1] for a2 in [0, 1]\n",
    "                                         for b1 in [0, 1] for b2 in [0, 1]]\n",
    "\n",
    "    # Compute q(a, b)\n",
    "    # here we assume the same relabaling for all x,y inputs\n",
    "    for a1, a2, b1, b2 in all_combinations:\n",
    "        prob00 = p_post_select(a1, a2, b1, b2, M00)\n",
    "        prob01 = p_post_select(a1, a2, b1, b2, M01)\n",
    "        prob10 = p_post_select(a1, a2, b1, b2, M10)\n",
    "        prob11 = p_post_select(a1, a2, b1, b2, M11)\n",
    "\n",
    "        # Get local mappings for Alice and Bob\n",
    "        a = local_mapping_a(a1, a2)\n",
    "        b = local_mapping_b(b1, b2)\n",
    "\n",
    "        q00[(a, b)] += prob00\n",
    "        q01[(a, b)] += prob01\n",
    "        q10[(a, b)] += prob10\n",
    "        q11[(a, b)] += prob11\n",
    "        \n",
    "    avg_00 = q00[(0, 0)]+q00[(1, 1)]-q00[(0, 1)]-q00[(1, 0)]\n",
    "    avg_01 = q01[(0, 0)]+q01[(1, 1)]-q01[(0, 1)]-q01[(1, 0)]\n",
    "    avg_10 = q10[(0, 0)]+q10[(1, 1)]-q10[(0, 1)]-q10[(1, 0)]\n",
    "    avg_11 = q11[(0, 0)]+q11[(1, 1)]-q11[(0, 1)]-q11[(1, 0)]\n",
    "    \n",
    "    CHSH_score = avg_00 + avg_01 + avg_10 - avg_11\n",
    "    \n",
    "    return -CHSH_score"
   ]
  },
  {
   "cell_type": "code",
   "execution_count": 533,
   "id": "68953e6b",
   "metadata": {},
   "outputs": [
    {
     "name": "stdout",
     "output_type": "stream",
     "text": [
      "Optimization terminated successfully.\n",
      "         Current function value: -0.296766\n",
      "         Iterations: 8\n",
      "         Function evaluations: 686\n",
      "Optimized  param:\n",
      " [0.62350761 0.58240592 3.22578455 3.82370433 3.52145388 2.93136746]\n",
      "Objective value: 0.2967656223772918\n",
      "CHSH_Score: 2.5030923177911664\n",
      "Randomness: 0.2742377915171713\n"
     ]
    }
   ],
   "source": [
    "### [T1, T2, alpha0, alpha1, beta0, beta1] = params\n",
    "\n",
    "from scipy.optimize import minimize\n",
    "\n",
    "\n",
    "def objr(params):\n",
    "    T1 = params[0]\n",
    "    T2 = params[1]\n",
    "    \n",
    "    S = CHSH_Score_general_postselect(params)\n",
    "    r = randomness(S)\n",
    "    p_fail = (1 - T1**2)*(1 - T2**2)\n",
    "    return -r*(1-p_fail)+0.009*S\n",
    "    #S#-r+0.1*S\n",
    "\n",
    "    \n",
    "\n",
    "\n",
    "init_param = np.random.uniform(0, 1, 6)  # Random starting matrix  #########????\n",
    "bounds = [(0, 1),(0, 1), (0, 2*np.pi), (0, 2*np.pi),(0, 2*np.pi), (0, 2*np.pi)]  # Element-wise bounds for m\n",
    "\n",
    "\n",
    "\n",
    "# Optimize\n",
    "result = minimize(\n",
    "    objr,\n",
    "    init_param,\n",
    "    bounds=bounds,\n",
    "    method='Powell',# Nelder-Mead , Powell\n",
    "    options={'disp': True}\n",
    ")\n",
    "\n",
    "# Results\n",
    "optimized_param = result.x\n",
    "print(\"Optimized  param:\\n\", optimized_param)\n",
    "print(\"Objective value:\", -result.fun)\n",
    "\n",
    "\n",
    "T1 = optimized_param[0]\n",
    "T2 = optimized_param[1]\n",
    "p_fail = (1 - T1**2)*(1 - T2**2)\n",
    "\n",
    "S_opt = CHSH_Score_general_postselect(optimized_param)\n",
    "print(\"CHSH_Score:\", -S_opt)\n",
    "print(\"Randomness:\", randomness(S_opt)*(1-p_fail))"
   ]
  },
  {
   "cell_type": "code",
   "execution_count": 468,
   "id": "166239f9",
   "metadata": {},
   "outputs": [
    {
     "ename": "SyntaxError",
     "evalue": "invalid syntax (2382923287.py, line 1)",
     "output_type": "error",
     "traceback": [
      "\u001b[0;36m  Input \u001b[0;32mIn [468]\u001b[0;36m\u001b[0m\n\u001b[0;31m    Optimized  param:\u001b[0m\n\u001b[0m               ^\u001b[0m\n\u001b[0;31mSyntaxError\u001b[0m\u001b[0;31m:\u001b[0m invalid syntax\n"
     ]
    }
   ],
   "source": [
    "Optimized  param:\n",
    " [0.63077438 0.57993051 3.26323611 2.67832769 2.97301941 3.55720105]\n",
    "Objective value: 0.29993274854132373\n",
    "CHSH_Score: 2.5012583068128658\n",
    "Randomness: 0.2749201654731951"
   ]
  },
  {
   "cell_type": "code",
   "execution_count": 534,
   "id": "76a06c56",
   "metadata": {},
   "outputs": [
    {
     "data": {
      "text/plain": [
       "0.3996178083860343"
      ]
     },
     "execution_count": 534,
     "metadata": {},
     "output_type": "execute_result"
    }
   ],
   "source": [
    "p_fail = (1 - 0.63077438**2)*(1 - 0.57993051**2)\n",
    "p_fail "
   ]
  },
  {
   "cell_type": "markdown",
   "id": "16ecee42",
   "metadata": {},
   "source": [
    "## Best result for $T1 = T2 = T$"
   ]
  },
  {
   "cell_type": "code",
   "execution_count": null,
   "id": "58695e59",
   "metadata": {},
   "outputs": [],
   "source": []
  },
  {
   "cell_type": "markdown",
   "id": "1f91fcd8",
   "metadata": {},
   "source": [
    "### standard"
   ]
  },
  {
   "cell_type": "code",
   "execution_count": 428,
   "id": "b2eac81c",
   "metadata": {},
   "outputs": [
    {
     "name": "stdout",
     "output_type": "stream",
     "text": [
      "Optimization terminated successfully.\n",
      "         Current function value: -2.300829\n",
      "         Iterations: 8\n",
      "         Function evaluations: 509\n",
      "Optimized  param:\n",
      " [0.63786806 3.43508835 2.84715837 3.72851633]\n",
      "Objective value: 2.3008294800000004\n",
      "CHSH_Score: 2.3008294800000004\n",
      "Randomness: 0.2478835502936937\n"
     ]
    }
   ],
   "source": [
    "#CHSH_Score_post_select(params)\n",
    "#[T, alpha0, alpha1, beta1] = params\n",
    "\n",
    "\n",
    "def obj_best(params):\n",
    "    T = params[0]\n",
    "    \n",
    "    S = CHSH_Score(params)\n",
    "    r = randomness(S)\n",
    "    p_fail = (1 - T**2)**2\n",
    "    return S#-r*(1-p_fail)+0.1*S\n",
    "    #S#-r+0.1*S\n",
    "\n",
    "    \n",
    "\n",
    "\n",
    "init_param = np.random.uniform(0, 1, 4)  # Random starting matrix  #########????\n",
    "bounds = [(0, 1), (0, 2*np.pi),(0, 2*np.pi), (0, 2*np.pi)]  # Element-wise bounds for m\n",
    "\n",
    "\n",
    "\n",
    "# Optimize\n",
    "result = minimize(\n",
    "    obj_best,\n",
    "    init_param,\n",
    "    bounds=bounds,\n",
    "    method='Powell',# Nelder-Mead , Powell\n",
    "    options={'disp': True}\n",
    ")\n",
    "\n",
    "# Results\n",
    "optimized_param = result.x\n",
    "print(\"Optimized  param:\\n\", optimized_param)\n",
    "print(\"Objective value:\", -result.fun)\n",
    "\n",
    "\n",
    "T = optimized_param[0]\n",
    "\n",
    "p_fail = (1 - T**2)**2\n",
    "\n",
    "S_opt = CHSH_Score(optimized_param)\n",
    "print(\"CHSH_Score:\", -S_opt)\n",
    "print(\"Randomness:\", randomness(S_opt))#*(1-p_fail))"
   ]
  },
  {
   "cell_type": "code",
   "execution_count": null,
   "id": "40b75fb0",
   "metadata": {},
   "outputs": [],
   "source": [
    "## Standard setting\n",
    "## Optimized  param:\n",
    "## [T, alpha0, alpha1, beta1]\n",
    "[0.63786806 3.43508835 2.84715837 3.72851633]\n",
    "\n",
    "CHSH_Score: 2.3008294800000004\n",
    "Randomness: 0.2478835502936937"
   ]
  },
  {
   "cell_type": "markdown",
   "id": "d764024c",
   "metadata": {},
   "source": [
    "### post selected"
   ]
  },
  {
   "cell_type": "code",
   "execution_count": 437,
   "id": "17e2e809",
   "metadata": {},
   "outputs": [
    {
     "name": "stdout",
     "output_type": "stream",
     "text": [
      "Optimization terminated successfully.\n",
      "         Current function value: -0.524453\n",
      "         Iterations: 8\n",
      "         Function evaluations: 496\n",
      "Optimized  param:\n",
      " [0.57205018 2.82395783 3.4587335  2.50741325]\n",
      "Objective value: 0.5244529284168863\n",
      "CHSH_Score: 2.532637906091619\n",
      "p_fail: 0.4526041280133279\n",
      "Randomness: 0.2711891378077244\n"
     ]
    }
   ],
   "source": [
    "#CHSH_Score_post_select(params)\n",
    "#[T, alpha0, alpha1, beta1] = params\n",
    "\n",
    "\n",
    "def obj_best(params):\n",
    "    T = params[0]\n",
    "    \n",
    "    S = CHSH_Score_post_select(params)\n",
    "    r = randomness(S)\n",
    "    p_fail = (1 - T**2)**2\n",
    "    return -r*(1-p_fail)+0.1*S\n",
    "    #S#-r+0.1*S\n",
    "\n",
    "    \n",
    "\n",
    "\n",
    "init_param = np.random.uniform(0, 1, 4)  # Random starting matrix  #########????\n",
    "bounds = [(0, 1), (0, 2*np.pi),(0, 2*np.pi), (0, 2*np.pi)]  # Element-wise bounds for m\n",
    "\n",
    "\n",
    "\n",
    "# Optimize\n",
    "result = minimize(\n",
    "    obj_best,\n",
    "    init_param,\n",
    "    bounds=bounds,\n",
    "    method='Powell',# Nelder-Mead , Powell\n",
    "    options={'disp': True}\n",
    ")\n",
    "\n",
    "# Results\n",
    "optimized_param = result.x\n",
    "print(\"Optimized  param:\\n\", optimized_param)\n",
    "print(\"Objective value:\", -result.fun)\n",
    "\n",
    "\n",
    "T = optimized_param[0]\n",
    "\n",
    "p_fail = (1 - T**2)**2\n",
    "\n",
    "S_opt = CHSH_Score_post_select(optimized_param)\n",
    "print(\"CHSH_Score:\", -S_opt)\n",
    "print(\"p_fail:\", p_fail)\n",
    "print(\"Randomness:\", randomness(S_opt)*(1-p_fail))"
   ]
  },
  {
   "cell_type": "code",
   "execution_count": 439,
   "id": "2f90be4b",
   "metadata": {},
   "outputs": [
    {
     "data": {
      "text/plain": [
       "0.7853981633974483"
      ]
     },
     "execution_count": 439,
     "metadata": {},
     "output_type": "execute_result"
    }
   ],
   "source": [
    "np.pi/4"
   ]
  },
  {
   "cell_type": "code",
   "execution_count": null,
   "id": "9c34c600",
   "metadata": {},
   "outputs": [],
   "source": [
    "\n",
    "## Post_select setting\n",
    "##Optimized  param:\n",
    "## [T, alpha0, alpha1, beta1]\n",
    "[0.57205018 2.82395783 3.4587335  2.50741325]\n",
    "\n",
    "\n",
    "CHSH_Score: 2.532637906091619\n",
    "p_fail: 0.4526041280133279\n",
    "Randomness: 0.2711891378077244"
   ]
  },
  {
   "cell_type": "markdown",
   "id": "60e08e1b",
   "metadata": {},
   "source": [
    "## The settings a = 0°, a′ = 45°, b = 22.5°, and b′ = 67.5° are generally in practice chosen ??"
   ]
  },
  {
   "cell_type": "code",
   "execution_count": 451,
   "id": "72b5a200",
   "metadata": {},
   "outputs": [
    {
     "name": "stdout",
     "output_type": "stream",
     "text": [
      "CHSH_Score: 0.2634681571815718\n",
      "p_fail: 0.4096\n",
      "Randomness: 0.0\n"
     ]
    }
   ],
   "source": [
    "## [T, alpha0, alpha1, beta1]\n",
    "\n",
    "param_experiment = [0.6, np.pi/8, 3*np.pi/8, np.pi/4]\n",
    "\n",
    "T = param_experiment[0]\n",
    "\n",
    "p_fail = (1 - T**2)**2\n",
    "\n",
    "S_opt = CHSH_Score_post_select(param_experiment)\n",
    "print(\"CHSH_Score:\", -S_opt)\n",
    "print(\"p_fail:\", p_fail)\n",
    "print(\"Randomness:\", randomness(S_opt)*(1-p_fail))"
   ]
  },
  {
   "cell_type": "code",
   "execution_count": null,
   "id": "33fd9d51",
   "metadata": {},
   "outputs": [],
   "source": []
  },
  {
   "cell_type": "markdown",
   "id": "aa135d7a",
   "metadata": {},
   "source": [
    "# Use Unitaries"
   ]
  },
  {
   "cell_type": "code",
   "execution_count": 573,
   "id": "7067b1df",
   "metadata": {},
   "outputs": [],
   "source": [
    "def unitary_U(alpha, beta, gamma, delta):\n",
    "    \n",
    "    # Define each component based on the formula\n",
    "    U11 = np.exp(1j * (alpha - beta / 2 - delta / 2)) * np.cos(gamma / 2)\n",
    "    U12 = -np.exp(1j * (alpha - beta / 2 + delta / 2)) * np.sin(gamma / 2)\n",
    "    U21 = np.exp(1j * (alpha + beta / 2 - delta / 2)) * np.sin(gamma / 2)\n",
    "    U22 = np.exp(1j * (alpha + beta / 2 + delta / 2)) * np.cos(gamma / 2)\n",
    "    \n",
    "    # Combine into a 2x2 matrix\n",
    "    U = np.array([[U11, U12], [U21, U22]])\n",
    "    return U"
   ]
  },
  {
   "cell_type": "code",
   "execution_count": null,
   "id": "222560c8",
   "metadata": {},
   "outputs": [],
   "source": []
  },
  {
   "cell_type": "markdown",
   "id": "fdbf13ca",
   "metadata": {},
   "source": [
    "## Standard"
   ]
  },
  {
   "cell_type": "code",
   "execution_count": 578,
   "id": "7f022884",
   "metadata": {},
   "outputs": [],
   "source": [
    "def CHSH_Score_Unitary(params):\n",
    "\n",
    "    # num params : 2 + 4x4 = 18\n",
    "    [T1, T2, alpha_a0, beta_a0, gamma_a0, delta_a0, alpha_a1, beta_a1, gamma_a1, delta_a1, alpha_b0, beta_b0, gamma_b0, delta_b0, alpha_b1, beta_b1, gamma_b1, delta_b1] = params\n",
    "    \n",
    "    \n",
    "    D = np.diag([T1, T2])\n",
    "    \n",
    "    U_a0 = unitary_U(alpha_a0, beta_a0, gamma_a0, delta_a0)\n",
    "    U_a1 = unitary_U(alpha_a1, beta_a1, gamma_a1, delta_a1)\n",
    "    \n",
    "    U_b0 = unitary_U(alpha_b0, beta_b0, gamma_b0, delta_b0)\n",
    "    U_b1 = unitary_U(alpha_b1, beta_b1, gamma_b1, delta_b1)\n",
    "    \n",
    "    \n",
    "    # Mxy\n",
    "    M00 = U_a0 @ D @ U_b0.T\n",
    "    M01 = U_a0 @ D @ U_b1.T\n",
    "    M10 = U_a1 @ D @ U_b0.T\n",
    "    M11 = U_a1 @ D @ U_b1.T\n",
    "    \n",
    "    \n",
    "    #....................................................\n",
    "    \n",
    "    # Initialize q(a, b)\n",
    "    q00 = {\n",
    "        (0, 0): 0.0,\n",
    "        (0, 1): 0.0,\n",
    "        (1, 0): 0.0,\n",
    "        (1, 1): 0.0}\n",
    "    \n",
    "    q01 = q00.copy()\n",
    "    q10 = q00.copy()\n",
    "    q11 = q00.copy()\n",
    "    \n",
    "    \n",
    "    # Collect all possible combinations\n",
    "    all_combinations = [(a1, a2, b1, b2) for a1 in [0, 1] for a2 in [0, 1]\n",
    "                                         for b1 in [0, 1] for b2 in [0, 1]]\n",
    "\n",
    "    # Compute q(a, b)\n",
    "    # here we assume the same relabaling for all x,y inputs\n",
    "    for a1, a2, b1, b2 in all_combinations:\n",
    "        prob00 = p(a1, a2, b1, b2, M00)\n",
    "        prob01 = p(a1, a2, b1, b2, M01)\n",
    "        prob10 = p(a1, a2, b1, b2, M10)\n",
    "        prob11 = p(a1, a2, b1, b2, M11)\n",
    "\n",
    "        # Get local mappings for Alice and Bob\n",
    "        a = alice_mapping(a1, a2)\n",
    "        b = bob_mapping(b1, b2)\n",
    "\n",
    "        q00[(a, b)] += prob00\n",
    "        q01[(a, b)] += prob01\n",
    "        q10[(a, b)] += prob10\n",
    "        q11[(a, b)] += prob11\n",
    "        \n",
    "    avg_00 = q00[(0, 0)]+q00[(1, 1)]-q00[(0, 1)]-q00[(1, 0)]\n",
    "    avg_01 = q01[(0, 0)]+q01[(1, 1)]-q01[(0, 1)]-q01[(1, 0)]\n",
    "    avg_10 = q10[(0, 0)]+q10[(1, 1)]-q10[(0, 1)]-q10[(1, 0)]\n",
    "    avg_11 = q11[(0, 0)]+q11[(1, 1)]-q11[(0, 1)]-q11[(1, 0)]\n",
    "    \n",
    "    CHSH_score = avg_00 + avg_01 + avg_10 - avg_11\n",
    "    \n",
    "    return -CHSH_score"
   ]
  },
  {
   "cell_type": "code",
   "execution_count": 582,
   "id": "69c56ba4",
   "metadata": {},
   "outputs": [
    {
     "name": "stdout",
     "output_type": "stream",
     "text": [
      "Optimization terminated successfully.\n",
      "         Current function value: -0.481053\n",
      "         Iterations: 6\n",
      "         Function evaluations: 2079\n",
      "Optimized matrix m:\n",
      " [ 0.67826886  0.61956107 12.56632904 12.56632904  6.56069586  5.92045566\n",
      " 12.56632904 12.56632904  7.6752304   5.90795547 12.56632904 12.56632904\n",
      "  7.1073005   6.65557007 12.56632904 12.56632904  6.01761504  6.67220849]\n",
      "Objective value: 0.48105270898485375\n",
      "CHSH_Score: 2.30378723\n",
      "Randomness: 0.2506739859848537\n"
     ]
    }
   ],
   "source": [
    "### [T1, T2, alpha0, alpha1, beta0, beta1] = params\n",
    "\n",
    "\n",
    "from scipy.optimize import minimize\n",
    "\n",
    "\n",
    "def objr(params):\n",
    "    S = CHSH_Score_Unitary(params)\n",
    "    r = randomness(S)\n",
    "    return -r+0.1*S\n",
    "    \n",
    "\n",
    "\n",
    "init_param = np.random.uniform(0, 1, 18)  # Random starting matrix  #########????\n",
    "bounds = [(0, 1), (0, 1)] + [(0, 4 * np.pi)] * 16\n",
    "\n",
    "\n",
    "\n",
    "# Optimize\n",
    "result = minimize(\n",
    "    objr,\n",
    "    init_param,\n",
    "    bounds=bounds,\n",
    "    method='Powell',# Nelder-Mead , Powell\n",
    "    options={'disp': True}\n",
    ")\n",
    "\n",
    "# Results\n",
    "optimized_param = result.x\n",
    "print(\"Optimized matrix m:\\n\", optimized_param)\n",
    "print(\"Objective value:\", -result.fun)\n",
    "\n",
    "S_opt = CHSH_Score_Unitary(optimized_param)\n",
    "print(\"CHSH_Score:\", -S_opt)\n",
    "print(\"Randomness:\", randomness(S_opt))"
   ]
  },
  {
   "cell_type": "markdown",
   "id": "7676f66c",
   "metadata": {},
   "source": [
    "## Post selected"
   ]
  },
  {
   "cell_type": "code",
   "execution_count": 585,
   "id": "295aec77",
   "metadata": {},
   "outputs": [],
   "source": [
    "def CHSH_Score_Unitary_postselect(params):\n",
    "    \n",
    "    # num params : 2 + 4x4 = 18\n",
    "    [T1, T2, alpha_a0, beta_a0, gamma_a0, delta_a0, alpha_a1, beta_a1, gamma_a1, delta_a1, alpha_b0, beta_b0, gamma_b0, delta_b0, alpha_b1, beta_b1, gamma_b1, delta_b1] = params\n",
    "    \n",
    "    \n",
    "    D = np.diag([T1, T2])\n",
    "    \n",
    "    U_a0 = unitary_U(alpha_a0, beta_a0, gamma_a0, delta_a0)\n",
    "    U_a1 = unitary_U(alpha_a1, beta_a1, gamma_a1, delta_a1)\n",
    "    \n",
    "    U_b0 = unitary_U(alpha_b0, beta_b0, gamma_b0, delta_b0)\n",
    "    U_b1 = unitary_U(alpha_b1, beta_b1, gamma_b1, delta_b1)\n",
    "    \n",
    "    \n",
    "    # Mxy\n",
    "    M00 = U_a0 @ D @ U_b0.T\n",
    "    M01 = U_a0 @ D @ U_b1.T\n",
    "    M10 = U_a1 @ D @ U_b0.T\n",
    "    M11 = U_a1 @ D @ U_b1.T\n",
    "    \n",
    "    \n",
    "    #....................................................\n",
    "    \n",
    "    # Initialize q(a, b)\n",
    "    q00 = {\n",
    "        (0, 0): 0.0,\n",
    "        (0, 1): 0.0,\n",
    "        (1, 0): 0.0,\n",
    "        (1, 1): 0.0}\n",
    "    \n",
    "    q01 = q00.copy()\n",
    "    q10 = q00.copy()\n",
    "    q11 = q00.copy()\n",
    "    \n",
    "    # Local mappings for Alice and Bob\n",
    "    def local_mapping_a(a1, a2):\n",
    "        # valid terms\n",
    "        if (a1, a2) == (0, 1):\n",
    "            return 0\n",
    "        elif (a1, a2) == (1, 0):\n",
    "            return 1\n",
    "\n",
    "        # not valid terms\n",
    "        elif (a1, a2) == (0, 0):\n",
    "            return 0\n",
    "        elif (a1, a2) == (1, 1):\n",
    "            return 0\n",
    "        \n",
    "        \n",
    "    def local_mapping_b(a1, a2):\n",
    "        # valid terms\n",
    "        if (a1, a2) == (0, 1):\n",
    "            return 0\n",
    "        elif (a1, a2) == (1, 0):\n",
    "            return 1\n",
    "\n",
    "        # not valid terms\n",
    "        elif (a1, a2) == (0, 0):\n",
    "            return 0\n",
    "        elif (a1, a2) == (1, 1):\n",
    "            return 0\n",
    "    \n",
    "    \n",
    "    # Collect all possible combinations\n",
    "    all_combinations = [(a1, a2, b1, b2) for a1 in [0, 1] for a2 in [0, 1]\n",
    "                                         for b1 in [0, 1] for b2 in [0, 1]]\n",
    "\n",
    "    # Compute q(a, b)\n",
    "    # here we assume the same relabaling for all x,y inputs\n",
    "    for a1, a2, b1, b2 in all_combinations:\n",
    "        prob00 = p_post_select(a1, a2, b1, b2, M00)\n",
    "        prob01 = p_post_select(a1, a2, b1, b2, M01)\n",
    "        prob10 = p_post_select(a1, a2, b1, b2, M10)\n",
    "        prob11 = p_post_select(a1, a2, b1, b2, M11)\n",
    "\n",
    "        # Get local mappings for Alice and Bob\n",
    "        a = local_mapping_a(a1, a2)\n",
    "        b = local_mapping_b(b1, b2)\n",
    "\n",
    "        q00[(a, b)] += prob00\n",
    "        q01[(a, b)] += prob01\n",
    "        q10[(a, b)] += prob10\n",
    "        q11[(a, b)] += prob11\n",
    "        \n",
    "    avg_00 = q00[(0, 0)]+q00[(1, 1)]-q00[(0, 1)]-q00[(1, 0)]\n",
    "    avg_01 = q01[(0, 0)]+q01[(1, 1)]-q01[(0, 1)]-q01[(1, 0)]\n",
    "    avg_10 = q10[(0, 0)]+q10[(1, 1)]-q10[(0, 1)]-q10[(1, 0)]\n",
    "    avg_11 = q11[(0, 0)]+q11[(1, 1)]-q11[(0, 1)]-q11[(1, 0)]\n",
    "    \n",
    "    CHSH_score = avg_00 + avg_01 + avg_10 - avg_11\n",
    "    \n",
    "    return -CHSH_score"
   ]
  },
  {
   "cell_type": "code",
   "execution_count": null,
   "id": "267cd0b3",
   "metadata": {},
   "outputs": [],
   "source": []
  },
  {
   "cell_type": "code",
   "execution_count": 591,
   "id": "704cdc7c",
   "metadata": {},
   "outputs": [
    {
     "name": "stdout",
     "output_type": "stream",
     "text": [
      "Optimization terminated successfully.\n",
      "         Current function value: -0.254661\n",
      "         Iterations: 43\n",
      "         Function evaluations: 16000\n",
      "Optimized  param:\n",
      " [ 0.63287996  0.92721096 12.56632904 12.56632904  3.25254969  9.16070201\n",
      " 12.56632904 12.56632904  9.0871627   2.95432839 12.56632904 12.56632904\n",
      "  9.32543335  3.28224172 12.56632904 12.56632904  9.07391592  6.50194004]\n",
      "Objective value: 0.2546613484182055\n",
      "CHSH_Score: 2.3087312546421863\n",
      "Randomness: 0.2338827671264258\n"
     ]
    }
   ],
   "source": [
    "### [T1, T2, alpha0, alpha1, beta0, beta1] = params\n",
    "\n",
    "from scipy.optimize import minimize\n",
    "\n",
    "\n",
    "def objr(params):\n",
    "    T1 = params[0]\n",
    "    T2 = params[1]\n",
    "    \n",
    "    S = CHSH_Score_Unitary_postselect(params)\n",
    "    r = randomness(S)\n",
    "    p_fail = (1 - T1**2)*(1 - T2**2)\n",
    "    return -r*(1-p_fail)+0.009*S\n",
    "    #S#-r+0.1*S\n",
    "\n",
    "\n",
    "\n",
    "init_param = np.random.uniform(0, 1, 18)  # Random starting matrix  #########????\n",
    "bounds = [(0, 1), (0, 1)] + [(0, 4 * np.pi)] * 16\n",
    "\n",
    "\n",
    "\n",
    "# Optimize\n",
    "result = minimize(\n",
    "    objr,\n",
    "    init_param,\n",
    "    bounds=bounds,\n",
    "    method='Powell',# Nelder-Mead , Powell\n",
    "    options={'disp': True}\n",
    ")\n",
    "\n",
    "# Results\n",
    "optimized_param = result.x\n",
    "print(\"Optimized  param:\\n\", optimized_param)\n",
    "print(\"Objective value:\", -result.fun)\n",
    "\n",
    "\n",
    "T1 = optimized_param[0]\n",
    "T2 = optimized_param[1]\n",
    "p_fail = (1 - T1**2)*(1 - T2**2)\n",
    "\n",
    "S_opt = CHSH_Score_Unitary_postselect(optimized_param)\n",
    "print(\"CHSH_Score:\", -S_opt)\n",
    "print(\"Randomness:\", randomness(S_opt)*(1-p_fail))"
   ]
  },
  {
   "cell_type": "code",
   "execution_count": null,
   "id": "22d3e0d5",
   "metadata": {},
   "outputs": [],
   "source": []
  }
 ],
 "metadata": {
  "kernelspec": {
   "display_name": "Python 3 (ipykernel)",
   "language": "python",
   "name": "python3"
  },
  "language_info": {
   "codemirror_mode": {
    "name": "ipython",
    "version": 3
   },
   "file_extension": ".py",
   "mimetype": "text/x-python",
   "name": "python",
   "nbconvert_exporter": "python",
   "pygments_lexer": "ipython3",
   "version": "3.9.12"
  }
 },
 "nbformat": 4,
 "nbformat_minor": 5
}
